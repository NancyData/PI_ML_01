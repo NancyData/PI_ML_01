{
 "cells": [
  {
   "cell_type": "code",
   "execution_count": 1,
   "metadata": {},
   "outputs": [],
   "source": [
    "#IMPORTAR LIBRERÍAS A UTILIZAR PARA EL ANÁLISIS EXPLORATORIO DE DATOS\n",
    "import pandas as pd\n",
    "import numpy as np\n",
    "import seaborn as sns\n",
    "import matplotlib.pyplot as plt\n",
    "import string, ast"
   ]
  },
  {
   "cell_type": "code",
   "execution_count": 2,
   "metadata": {},
   "outputs": [],
   "source": [
    "#IMPORTAR DATAFRAME QUE SURGIÓ DE LA LIMPIEZA DE DATOS\n",
    "df2 = pd.read_csv('df_ETL.csv', sep=',', encoding=\"utf8\")"
   ]
  },
  {
   "cell_type": "code",
   "execution_count": 3,
   "metadata": {},
   "outputs": [
    {
     "data": {
      "text/html": [
       "<div>\n",
       "<style scoped>\n",
       "    .dataframe tbody tr th:only-of-type {\n",
       "        vertical-align: middle;\n",
       "    }\n",
       "\n",
       "    .dataframe tbody tr th {\n",
       "        vertical-align: top;\n",
       "    }\n",
       "\n",
       "    .dataframe thead th {\n",
       "        text-align: right;\n",
       "    }\n",
       "</style>\n",
       "<table border=\"1\" class=\"dataframe\">\n",
       "  <thead>\n",
       "    <tr style=\"text-align: right;\">\n",
       "      <th></th>\n",
       "      <th>belongs_to_collection</th>\n",
       "      <th>budget</th>\n",
       "      <th>genres</th>\n",
       "      <th>id</th>\n",
       "      <th>original_language</th>\n",
       "      <th>overview</th>\n",
       "      <th>popularity</th>\n",
       "      <th>production_companies</th>\n",
       "      <th>production_countries</th>\n",
       "      <th>release_date</th>\n",
       "      <th>...</th>\n",
       "      <th>spoken_languages</th>\n",
       "      <th>status</th>\n",
       "      <th>tagline</th>\n",
       "      <th>title</th>\n",
       "      <th>vote_average</th>\n",
       "      <th>vote_count</th>\n",
       "      <th>cast</th>\n",
       "      <th>crew</th>\n",
       "      <th>release_year</th>\n",
       "      <th>return</th>\n",
       "    </tr>\n",
       "  </thead>\n",
       "  <tbody>\n",
       "    <tr>\n",
       "      <th>0</th>\n",
       "      <td>Toy Story Collection</td>\n",
       "      <td>30000000.0</td>\n",
       "      <td>['Animation', 'Comedy', 'Family']</td>\n",
       "      <td>862</td>\n",
       "      <td>en</td>\n",
       "      <td>Led by Woody, Andy's toys live happily in his ...</td>\n",
       "      <td>21.946943</td>\n",
       "      <td>['Pixar Animation Studios']</td>\n",
       "      <td>['United States of America']</td>\n",
       "      <td>1995-10-30</td>\n",
       "      <td>...</td>\n",
       "      <td>['English']</td>\n",
       "      <td>Released</td>\n",
       "      <td>NaN</td>\n",
       "      <td>Toy Story</td>\n",
       "      <td>7.7</td>\n",
       "      <td>5415.0</td>\n",
       "      <td>['Tom Hanks', 'Tim Allen', 'Don Rickles', 'Jim...</td>\n",
       "      <td>['John Lasseter']</td>\n",
       "      <td>1995</td>\n",
       "      <td>12.451801</td>\n",
       "    </tr>\n",
       "    <tr>\n",
       "      <th>1</th>\n",
       "      <td>NaN</td>\n",
       "      <td>65000000.0</td>\n",
       "      <td>['Adventure', 'Fantasy', 'Family']</td>\n",
       "      <td>8844</td>\n",
       "      <td>en</td>\n",
       "      <td>When siblings Judy and Peter discover an encha...</td>\n",
       "      <td>17.015539</td>\n",
       "      <td>['TriStar Pictures', 'Teitler Film', 'Intersco...</td>\n",
       "      <td>['United States of America']</td>\n",
       "      <td>1995-12-15</td>\n",
       "      <td>...</td>\n",
       "      <td>['English', 'Français']</td>\n",
       "      <td>Released</td>\n",
       "      <td>Roll the dice and unleash the excitement!</td>\n",
       "      <td>Jumanji</td>\n",
       "      <td>6.9</td>\n",
       "      <td>2413.0</td>\n",
       "      <td>['Robin Williams', 'Jonathan Hyde', 'Kirsten D...</td>\n",
       "      <td>['Joe Johnston']</td>\n",
       "      <td>1995</td>\n",
       "      <td>4.043035</td>\n",
       "    </tr>\n",
       "    <tr>\n",
       "      <th>2</th>\n",
       "      <td>Grumpy Old Men Collection</td>\n",
       "      <td>0.0</td>\n",
       "      <td>['Romance', 'Comedy']</td>\n",
       "      <td>15602</td>\n",
       "      <td>en</td>\n",
       "      <td>A family wedding reignites the ancient feud be...</td>\n",
       "      <td>11.712900</td>\n",
       "      <td>['Warner Bros.', 'Lancaster Gate']</td>\n",
       "      <td>['United States of America']</td>\n",
       "      <td>1995-12-22</td>\n",
       "      <td>...</td>\n",
       "      <td>['English']</td>\n",
       "      <td>Released</td>\n",
       "      <td>Still Yelling. Still Fighting. Still Ready for...</td>\n",
       "      <td>Grumpier Old Men</td>\n",
       "      <td>6.5</td>\n",
       "      <td>92.0</td>\n",
       "      <td>['Walter Matthau', 'Jack Lemmon', 'Ann-Margret...</td>\n",
       "      <td>['Howard Deutch']</td>\n",
       "      <td>1995</td>\n",
       "      <td>0.000000</td>\n",
       "    </tr>\n",
       "    <tr>\n",
       "      <th>3</th>\n",
       "      <td>NaN</td>\n",
       "      <td>16000000.0</td>\n",
       "      <td>['Comedy', 'Drama', 'Romance']</td>\n",
       "      <td>31357</td>\n",
       "      <td>en</td>\n",
       "      <td>Cheated on, mistreated and stepped on, the wom...</td>\n",
       "      <td>3.859495</td>\n",
       "      <td>['Twentieth Century Fox Film Corporation']</td>\n",
       "      <td>['United States of America']</td>\n",
       "      <td>1995-12-22</td>\n",
       "      <td>...</td>\n",
       "      <td>['English']</td>\n",
       "      <td>Released</td>\n",
       "      <td>Friends are the people who let you be yourself...</td>\n",
       "      <td>Waiting to Exhale</td>\n",
       "      <td>6.1</td>\n",
       "      <td>34.0</td>\n",
       "      <td>['Whitney Houston', 'Angela Bassett', 'Loretta...</td>\n",
       "      <td>['Forest Whitaker']</td>\n",
       "      <td>1995</td>\n",
       "      <td>5.090760</td>\n",
       "    </tr>\n",
       "    <tr>\n",
       "      <th>4</th>\n",
       "      <td>Father of the Bride Collection</td>\n",
       "      <td>0.0</td>\n",
       "      <td>['Comedy']</td>\n",
       "      <td>11862</td>\n",
       "      <td>en</td>\n",
       "      <td>Just when George Banks has recovered from his ...</td>\n",
       "      <td>8.387519</td>\n",
       "      <td>['Sandollar Productions', 'Touchstone Pictures']</td>\n",
       "      <td>['United States of America']</td>\n",
       "      <td>1995-02-10</td>\n",
       "      <td>...</td>\n",
       "      <td>['English']</td>\n",
       "      <td>Released</td>\n",
       "      <td>Just When His World Is Back To Normal... He's ...</td>\n",
       "      <td>Father of the Bride Part II</td>\n",
       "      <td>5.7</td>\n",
       "      <td>173.0</td>\n",
       "      <td>['Steve Martin', 'Diane Keaton', 'Martin Short...</td>\n",
       "      <td>['Charles Shyer']</td>\n",
       "      <td>1995</td>\n",
       "      <td>0.000000</td>\n",
       "    </tr>\n",
       "  </tbody>\n",
       "</table>\n",
       "<p>5 rows × 22 columns</p>\n",
       "</div>"
      ],
      "text/plain": [
       "            belongs_to_collection      budget  \\\n",
       "0            Toy Story Collection  30000000.0   \n",
       "1                             NaN  65000000.0   \n",
       "2       Grumpy Old Men Collection         0.0   \n",
       "3                             NaN  16000000.0   \n",
       "4  Father of the Bride Collection         0.0   \n",
       "\n",
       "                               genres     id original_language  \\\n",
       "0   ['Animation', 'Comedy', 'Family']    862                en   \n",
       "1  ['Adventure', 'Fantasy', 'Family']   8844                en   \n",
       "2               ['Romance', 'Comedy']  15602                en   \n",
       "3      ['Comedy', 'Drama', 'Romance']  31357                en   \n",
       "4                          ['Comedy']  11862                en   \n",
       "\n",
       "                                            overview  popularity  \\\n",
       "0  Led by Woody, Andy's toys live happily in his ...   21.946943   \n",
       "1  When siblings Judy and Peter discover an encha...   17.015539   \n",
       "2  A family wedding reignites the ancient feud be...   11.712900   \n",
       "3  Cheated on, mistreated and stepped on, the wom...    3.859495   \n",
       "4  Just when George Banks has recovered from his ...    8.387519   \n",
       "\n",
       "                                production_companies  \\\n",
       "0                        ['Pixar Animation Studios']   \n",
       "1  ['TriStar Pictures', 'Teitler Film', 'Intersco...   \n",
       "2                 ['Warner Bros.', 'Lancaster Gate']   \n",
       "3         ['Twentieth Century Fox Film Corporation']   \n",
       "4   ['Sandollar Productions', 'Touchstone Pictures']   \n",
       "\n",
       "           production_countries release_date  ...         spoken_languages  \\\n",
       "0  ['United States of America']   1995-10-30  ...              ['English']   \n",
       "1  ['United States of America']   1995-12-15  ...  ['English', 'Français']   \n",
       "2  ['United States of America']   1995-12-22  ...              ['English']   \n",
       "3  ['United States of America']   1995-12-22  ...              ['English']   \n",
       "4  ['United States of America']   1995-02-10  ...              ['English']   \n",
       "\n",
       "     status                                            tagline  \\\n",
       "0  Released                                                NaN   \n",
       "1  Released          Roll the dice and unleash the excitement!   \n",
       "2  Released  Still Yelling. Still Fighting. Still Ready for...   \n",
       "3  Released  Friends are the people who let you be yourself...   \n",
       "4  Released  Just When His World Is Back To Normal... He's ...   \n",
       "\n",
       "                         title vote_average vote_count  \\\n",
       "0                    Toy Story          7.7     5415.0   \n",
       "1                      Jumanji          6.9     2413.0   \n",
       "2             Grumpier Old Men          6.5       92.0   \n",
       "3            Waiting to Exhale          6.1       34.0   \n",
       "4  Father of the Bride Part II          5.7      173.0   \n",
       "\n",
       "                                                cast                 crew  \\\n",
       "0  ['Tom Hanks', 'Tim Allen', 'Don Rickles', 'Jim...    ['John Lasseter']   \n",
       "1  ['Robin Williams', 'Jonathan Hyde', 'Kirsten D...     ['Joe Johnston']   \n",
       "2  ['Walter Matthau', 'Jack Lemmon', 'Ann-Margret...    ['Howard Deutch']   \n",
       "3  ['Whitney Houston', 'Angela Bassett', 'Loretta...  ['Forest Whitaker']   \n",
       "4  ['Steve Martin', 'Diane Keaton', 'Martin Short...    ['Charles Shyer']   \n",
       "\n",
       "  release_year     return  \n",
       "0         1995  12.451801  \n",
       "1         1995   4.043035  \n",
       "2         1995   0.000000  \n",
       "3         1995   5.090760  \n",
       "4         1995   0.000000  \n",
       "\n",
       "[5 rows x 22 columns]"
      ]
     },
     "execution_count": 3,
     "metadata": {},
     "output_type": "execute_result"
    }
   ],
   "source": [
    "#IMPRIMO PARTE DEL DATAFRAME PARA CORROBORAR QUE SE CARGÓ CORRECTAMENTE \n",
    "df2.head(5)"
   ]
  },
  {
   "cell_type": "code",
   "execution_count": 4,
   "metadata": {},
   "outputs": [
    {
     "name": "stdout",
     "output_type": "stream",
     "text": [
      "<class 'pandas.core.frame.DataFrame'>\n",
      "RangeIndex: 45451 entries, 0 to 45450\n",
      "Data columns (total 22 columns):\n",
      " #   Column                 Non-Null Count  Dtype  \n",
      "---  ------                 --------------  -----  \n",
      " 0   belongs_to_collection  4497 non-null   object \n",
      " 1   budget                 45451 non-null  float64\n",
      " 2   genres                 45451 non-null  object \n",
      " 3   id                     45451 non-null  int64  \n",
      " 4   original_language      45440 non-null  object \n",
      " 5   overview               44510 non-null  object \n",
      " 6   popularity             45451 non-null  float64\n",
      " 7   production_companies   45451 non-null  object \n",
      " 8   production_countries   45451 non-null  object \n",
      " 9   release_date           45451 non-null  object \n",
      " 10  revenue                45451 non-null  float64\n",
      " 11  runtime                45205 non-null  float64\n",
      " 12  spoken_languages       45451 non-null  object \n",
      " 13  status                 45371 non-null  object \n",
      " 14  tagline                20425 non-null  object \n",
      " 15  title                  45451 non-null  object \n",
      " 16  vote_average           45451 non-null  float64\n",
      " 17  vote_count             45451 non-null  float64\n",
      " 18  cast                   45451 non-null  object \n",
      " 19  crew                   45451 non-null  object \n",
      " 20  release_year           45451 non-null  int64  \n",
      " 21  return                 45451 non-null  float64\n",
      "dtypes: float64(7), int64(2), object(13)\n",
      "memory usage: 7.6+ MB\n"
     ]
    }
   ],
   "source": [
    "#VISTA GENERAL AL DATAFRAME\n",
    "df2.info()"
   ]
  },
  {
   "cell_type": "code",
   "execution_count": 5,
   "metadata": {},
   "outputs": [
    {
     "data": {
      "text/plain": [
       "belongs_to_collection    40954\n",
       "budget                       0\n",
       "genres                       0\n",
       "id                           0\n",
       "original_language           11\n",
       "overview                   941\n",
       "popularity                   0\n",
       "production_companies         0\n",
       "production_countries         0\n",
       "release_date                 0\n",
       "revenue                      0\n",
       "runtime                    246\n",
       "spoken_languages             0\n",
       "status                      80\n",
       "tagline                  25026\n",
       "title                        0\n",
       "vote_average                 0\n",
       "vote_count                   0\n",
       "cast                         0\n",
       "crew                         0\n",
       "release_year                 0\n",
       "return                       0\n",
       "dtype: int64"
      ]
     },
     "execution_count": 5,
     "metadata": {},
     "output_type": "execute_result"
    }
   ],
   "source": [
    "#REVISANDO VALORES NULOS\n",
    "df2.isnull().sum()"
   ]
  },
  {
   "attachments": {},
   "cell_type": "markdown",
   "metadata": {},
   "source": [
    "\"\"\"ANÁLISIS DE CADA COLUMNA A SIMPLE VISTA, PARA DETERMINAR CUÁL INFORMACIÓN NO ES NECESARIA PARA\n",
    "EL DESARROLLO DEL MODELO Y COMENZAR A HACER MÁS SENCILLO EL DATAFRAME Y ANALIZAR A DETALLE LAS \n",
    "COLUMNAS QUE QUEDEN\"\"\"\n",
    "\n",
    "#BELONGS_TO_COLLECTION - A pesar de tener muchos datos \"faltantes\", se considera importante mantenerla para el modelo, ya que, si alguien ve una película que pertence a una serie de películas, querrá ver las otras.\n",
    "\n",
    "#BUDGET - Parece interesante para el modelo, sin embargo, cuenta con un porcentaje de valores en 0 que se traducen cómo desconocidos, no se puede trabajar con una cantidad tan baja, puede influir en el resultado (Código en la siguiente línea)\n",
    "\n",
    "#GENRES - Una columna que considero importante para realizar un modelo de recomendación\n",
    "\n",
    "#ID - No tiene información relevante para el modelo\n",
    "\n",
    "#ORIGINAL_LANGUAGE - Esta columna no es importante considerando que la columna spoken_languajes ya contiene esta información y datos más relevantes cómo si está doblada en otros idiomas\n",
    "\n",
    "#OVERVIEW -Puede servir para el modelo de recomendación, se decidirá más adelante\n",
    "\n",
    "#POPULARITY - Por el momento se mantiene, a las personas les gusta ver películas de acuerdo a su popularidad\n",
    "\n",
    "#PRODUCTION_COMPANIES - Por el momento se queda, generalmente si te gusta una película de una productora, querras ver más de esa compañía\n",
    "\n",
    "#PRODUCTION_COUNTRIES - Considero importante este dato, habrá que ver su correlación con la columna original_languaje, más adelante\n",
    "\n",
    "#RELEASE_DATE - No se considera relevante para el modelo, con el año es suficiente\n",
    "\n",
    "#REVENUE - Mismo caso que budget, esta columna se va (código más abajo)\n",
    "\n",
    "#RUNTIME - Por el momento se queda, se necesita analizarla más a detalle\n",
    "\n",
    "#SPOKEN_LANGUAGES - Esta columna parece necesaria mantenerla, ya que a las personas muchas veces les gusta que la película esté doblada en un idioma en particular\n",
    "\n",
    "#STATUS - No parece relevante, pero se debe analizar, ya que pueden haber películas canceladas que no tiene caso recomendar, sirve para hacer una depuración de películas más adelante\n",
    "\n",
    "#TAGLINE - Las frases célebres no parece relevante y no servirá para hacer un cluster, además tiene más del 55% de datos vacíos (CÓDIGO de donde se obtuvo el recultado MÁS ADELANTE)\n",
    "\n",
    "#TITLE - La columna más importante para poder realizar el modelo, ya que corresponde a la respuesta\n",
    "\n",
    "#VOTE_AVERAGE - Columna importante ya que contiene la votación del público, habrá que revisar valores atípicos\n",
    "\n",
    "#VOTE_COUNT - No parece una columna relevante, sin embargo, conviene revisarla junto con la columna vote_average, para detectar valores atípicos y confirmar si dicha columna servirá para el modelo\n",
    "\n",
    "#CAST - Columna importante para el modelo, quien no tiene inclinación por algún actor en particular?\n",
    "\n",
    "#CREW - Cambiar el nombre de esta fila ya que sólo contiene el dato del director. columna importante para el modelo\n",
    "\n",
    "#RELEASE_YEAR - Se considera que la columna es importante para el clustering\n",
    "\n",
    "#RETURN - Esta columna se forma con las columnas de budget y revenue, las cuales carecen de datos, lo que las hace deficientes para un buen modelamiento, incluyendo esta."
   ]
  },
  {
   "cell_type": "code",
   "execution_count": 6,
   "metadata": {},
   "outputs": [
    {
     "name": "stdout",
     "output_type": "stream",
     "text": [
      "Porcentaje de datos desconocidos para la columna budget: 80.40%\n"
     ]
    }
   ],
   "source": [
    "#OBTENCIÓN DE PORCENTAJE DE NULOS PARA BUDGET\n",
    "porcentaje_ceros = ((df2[df2['budget']==0].shape[0])/df2.shape[0]) * 100\n",
    "print(f'Porcentaje de datos desconocidos para la columna budget: {porcentaje_ceros:.2F}%')"
   ]
  },
  {
   "cell_type": "code",
   "execution_count": 7,
   "metadata": {},
   "outputs": [
    {
     "name": "stdout",
     "output_type": "stream",
     "text": [
      "Porcentaje de datos desconocidos para la columna revenue: 83.66%\n"
     ]
    }
   ],
   "source": [
    "#OBTENCIÓN DE PORCENTAJE DE NULOS PARA REVENUE\n",
    "porcentaje_ceros = ((df2[df2['revenue']==0].shape[0])/df2.shape[0]) * 100\n",
    "print(f'Porcentaje de datos desconocidos para la columna revenue: {porcentaje_ceros:.2F}%')"
   ]
  },
  {
   "cell_type": "code",
   "execution_count": 8,
   "metadata": {},
   "outputs": [
    {
     "name": "stdout",
     "output_type": "stream",
     "text": [
      "Porcentaje de datos vacíos para la columna tagline: 55.06%\n"
     ]
    }
   ],
   "source": [
    "#OBTENCIÓN DE PORCENTAJE DE NULOS PARA TAGLINE\n",
    "porcentaje_ceros = ((df2.tagline.isnull().sum())/df2.shape[0]) * 100\n",
    "print(f'Porcentaje de datos vacíos para la columna tagline: {porcentaje_ceros:.2F}%')"
   ]
  },
  {
   "attachments": {},
   "cell_type": "markdown",
   "metadata": {},
   "source": [
    "\"\"\"Después de dicho análisis, procedo a eliminar las columnas: budget, id, original_language,\n",
    "release_date, revenue, tagline y return\"\"\""
   ]
  },
  {
   "cell_type": "code",
   "execution_count": 9,
   "metadata": {},
   "outputs": [],
   "source": [
    "#ELIMINANDO COLUMNAS PARA PROCEDER A UN ANÁLISIS MÁS PROFUNDO, PERO ANTES REALIZO UNA COPIA DE SEGURIDAD\n",
    "df3 = df2.copy()\n",
    "df3.drop(['budget', 'id', 'original_language', 'release_date', 'revenue', 'tagline', 'return'], axis=1, inplace=True)"
   ]
  },
  {
   "cell_type": "code",
   "execution_count": 10,
   "metadata": {},
   "outputs": [
    {
     "data": {
      "text/html": [
       "<div>\n",
       "<style scoped>\n",
       "    .dataframe tbody tr th:only-of-type {\n",
       "        vertical-align: middle;\n",
       "    }\n",
       "\n",
       "    .dataframe tbody tr th {\n",
       "        vertical-align: top;\n",
       "    }\n",
       "\n",
       "    .dataframe thead th {\n",
       "        text-align: right;\n",
       "    }\n",
       "</style>\n",
       "<table border=\"1\" class=\"dataframe\">\n",
       "  <thead>\n",
       "    <tr style=\"text-align: right;\">\n",
       "      <th></th>\n",
       "      <th>belongs_to_collection</th>\n",
       "      <th>genres</th>\n",
       "      <th>overview</th>\n",
       "      <th>popularity</th>\n",
       "      <th>production_companies</th>\n",
       "      <th>production_countries</th>\n",
       "      <th>runtime</th>\n",
       "      <th>spoken_languages</th>\n",
       "      <th>status</th>\n",
       "      <th>title</th>\n",
       "      <th>vote_average</th>\n",
       "      <th>vote_count</th>\n",
       "      <th>cast</th>\n",
       "      <th>crew</th>\n",
       "      <th>release_year</th>\n",
       "    </tr>\n",
       "  </thead>\n",
       "  <tbody>\n",
       "    <tr>\n",
       "      <th>0</th>\n",
       "      <td>Toy Story Collection</td>\n",
       "      <td>['Animation', 'Comedy', 'Family']</td>\n",
       "      <td>Led by Woody, Andy's toys live happily in his ...</td>\n",
       "      <td>21.946943</td>\n",
       "      <td>['Pixar Animation Studios']</td>\n",
       "      <td>['United States of America']</td>\n",
       "      <td>81.0</td>\n",
       "      <td>['English']</td>\n",
       "      <td>Released</td>\n",
       "      <td>Toy Story</td>\n",
       "      <td>7.7</td>\n",
       "      <td>5415.0</td>\n",
       "      <td>['Tom Hanks', 'Tim Allen', 'Don Rickles', 'Jim...</td>\n",
       "      <td>['John Lasseter']</td>\n",
       "      <td>1995</td>\n",
       "    </tr>\n",
       "    <tr>\n",
       "      <th>1</th>\n",
       "      <td>NaN</td>\n",
       "      <td>['Adventure', 'Fantasy', 'Family']</td>\n",
       "      <td>When siblings Judy and Peter discover an encha...</td>\n",
       "      <td>17.015539</td>\n",
       "      <td>['TriStar Pictures', 'Teitler Film', 'Intersco...</td>\n",
       "      <td>['United States of America']</td>\n",
       "      <td>104.0</td>\n",
       "      <td>['English', 'Français']</td>\n",
       "      <td>Released</td>\n",
       "      <td>Jumanji</td>\n",
       "      <td>6.9</td>\n",
       "      <td>2413.0</td>\n",
       "      <td>['Robin Williams', 'Jonathan Hyde', 'Kirsten D...</td>\n",
       "      <td>['Joe Johnston']</td>\n",
       "      <td>1995</td>\n",
       "    </tr>\n",
       "    <tr>\n",
       "      <th>2</th>\n",
       "      <td>Grumpy Old Men Collection</td>\n",
       "      <td>['Romance', 'Comedy']</td>\n",
       "      <td>A family wedding reignites the ancient feud be...</td>\n",
       "      <td>11.712900</td>\n",
       "      <td>['Warner Bros.', 'Lancaster Gate']</td>\n",
       "      <td>['United States of America']</td>\n",
       "      <td>101.0</td>\n",
       "      <td>['English']</td>\n",
       "      <td>Released</td>\n",
       "      <td>Grumpier Old Men</td>\n",
       "      <td>6.5</td>\n",
       "      <td>92.0</td>\n",
       "      <td>['Walter Matthau', 'Jack Lemmon', 'Ann-Margret...</td>\n",
       "      <td>['Howard Deutch']</td>\n",
       "      <td>1995</td>\n",
       "    </tr>\n",
       "    <tr>\n",
       "      <th>3</th>\n",
       "      <td>NaN</td>\n",
       "      <td>['Comedy', 'Drama', 'Romance']</td>\n",
       "      <td>Cheated on, mistreated and stepped on, the wom...</td>\n",
       "      <td>3.859495</td>\n",
       "      <td>['Twentieth Century Fox Film Corporation']</td>\n",
       "      <td>['United States of America']</td>\n",
       "      <td>127.0</td>\n",
       "      <td>['English']</td>\n",
       "      <td>Released</td>\n",
       "      <td>Waiting to Exhale</td>\n",
       "      <td>6.1</td>\n",
       "      <td>34.0</td>\n",
       "      <td>['Whitney Houston', 'Angela Bassett', 'Loretta...</td>\n",
       "      <td>['Forest Whitaker']</td>\n",
       "      <td>1995</td>\n",
       "    </tr>\n",
       "    <tr>\n",
       "      <th>4</th>\n",
       "      <td>Father of the Bride Collection</td>\n",
       "      <td>['Comedy']</td>\n",
       "      <td>Just when George Banks has recovered from his ...</td>\n",
       "      <td>8.387519</td>\n",
       "      <td>['Sandollar Productions', 'Touchstone Pictures']</td>\n",
       "      <td>['United States of America']</td>\n",
       "      <td>106.0</td>\n",
       "      <td>['English']</td>\n",
       "      <td>Released</td>\n",
       "      <td>Father of the Bride Part II</td>\n",
       "      <td>5.7</td>\n",
       "      <td>173.0</td>\n",
       "      <td>['Steve Martin', 'Diane Keaton', 'Martin Short...</td>\n",
       "      <td>['Charles Shyer']</td>\n",
       "      <td>1995</td>\n",
       "    </tr>\n",
       "  </tbody>\n",
       "</table>\n",
       "</div>"
      ],
      "text/plain": [
       "            belongs_to_collection                              genres  \\\n",
       "0            Toy Story Collection   ['Animation', 'Comedy', 'Family']   \n",
       "1                             NaN  ['Adventure', 'Fantasy', 'Family']   \n",
       "2       Grumpy Old Men Collection               ['Romance', 'Comedy']   \n",
       "3                             NaN      ['Comedy', 'Drama', 'Romance']   \n",
       "4  Father of the Bride Collection                          ['Comedy']   \n",
       "\n",
       "                                            overview  popularity  \\\n",
       "0  Led by Woody, Andy's toys live happily in his ...   21.946943   \n",
       "1  When siblings Judy and Peter discover an encha...   17.015539   \n",
       "2  A family wedding reignites the ancient feud be...   11.712900   \n",
       "3  Cheated on, mistreated and stepped on, the wom...    3.859495   \n",
       "4  Just when George Banks has recovered from his ...    8.387519   \n",
       "\n",
       "                                production_companies  \\\n",
       "0                        ['Pixar Animation Studios']   \n",
       "1  ['TriStar Pictures', 'Teitler Film', 'Intersco...   \n",
       "2                 ['Warner Bros.', 'Lancaster Gate']   \n",
       "3         ['Twentieth Century Fox Film Corporation']   \n",
       "4   ['Sandollar Productions', 'Touchstone Pictures']   \n",
       "\n",
       "           production_countries  runtime         spoken_languages    status  \\\n",
       "0  ['United States of America']     81.0              ['English']  Released   \n",
       "1  ['United States of America']    104.0  ['English', 'Français']  Released   \n",
       "2  ['United States of America']    101.0              ['English']  Released   \n",
       "3  ['United States of America']    127.0              ['English']  Released   \n",
       "4  ['United States of America']    106.0              ['English']  Released   \n",
       "\n",
       "                         title  vote_average  vote_count  \\\n",
       "0                    Toy Story           7.7      5415.0   \n",
       "1                      Jumanji           6.9      2413.0   \n",
       "2             Grumpier Old Men           6.5        92.0   \n",
       "3            Waiting to Exhale           6.1        34.0   \n",
       "4  Father of the Bride Part II           5.7       173.0   \n",
       "\n",
       "                                                cast                 crew  \\\n",
       "0  ['Tom Hanks', 'Tim Allen', 'Don Rickles', 'Jim...    ['John Lasseter']   \n",
       "1  ['Robin Williams', 'Jonathan Hyde', 'Kirsten D...     ['Joe Johnston']   \n",
       "2  ['Walter Matthau', 'Jack Lemmon', 'Ann-Margret...    ['Howard Deutch']   \n",
       "3  ['Whitney Houston', 'Angela Bassett', 'Loretta...  ['Forest Whitaker']   \n",
       "4  ['Steve Martin', 'Diane Keaton', 'Martin Short...    ['Charles Shyer']   \n",
       "\n",
       "   release_year  \n",
       "0          1995  \n",
       "1          1995  \n",
       "2          1995  \n",
       "3          1995  \n",
       "4          1995  "
      ]
     },
     "execution_count": 10,
     "metadata": {},
     "output_type": "execute_result"
    }
   ],
   "source": [
    "#VISUALIZAMOS CÓMO QUEDÓ EL DATAFRAME\n",
    "df3.head(5)"
   ]
  },
  {
   "attachments": {},
   "cell_type": "markdown",
   "metadata": {},
   "source": [
    "Comienza la búsqueda de outliers y anomalías para las columnas de runtime, status, vote_average y\n",
    "vote_count"
   ]
  },
  {
   "cell_type": "code",
   "execution_count": 11,
   "metadata": {},
   "outputs": [
    {
     "data": {
      "text/plain": [
       "Released           45009\n",
       "Rumored              232\n",
       "Post Production       97\n",
       "In Production         19\n",
       "Planned               13\n",
       "Canceled               1\n",
       "Name: status, dtype: int64"
      ]
     },
     "execution_count": 11,
     "metadata": {},
     "output_type": "execute_result"
    }
   ],
   "source": [
    "#STATUS ES UNA COLUMNA A ELIMINAR YA QUE OBVIAMENTE RECOMENDARÁS PELÍCULAS QUE YA FUERON ESTRENADAS\n",
    "#POR LO QUE PROCEDO A ELIMINAR TODAS LAS FILAS QUE NO DICEN RELEASED\n",
    "df3.status.value_counts()\n"
   ]
  },
  {
   "cell_type": "code",
   "execution_count": 12,
   "metadata": {},
   "outputs": [
    {
     "data": {
      "text/plain": [
       "(45451, 15)"
      ]
     },
     "execution_count": 12,
     "metadata": {},
     "output_type": "execute_result"
    }
   ],
   "source": [
    "df3.shape"
   ]
  },
  {
   "cell_type": "code",
   "execution_count": 13,
   "metadata": {},
   "outputs": [
    {
     "data": {
      "text/plain": [
       "(45009, 15)"
      ]
     },
     "execution_count": 13,
     "metadata": {},
     "output_type": "execute_result"
    }
   ],
   "source": [
    "df_released = df3[df3['status'] == 'Released']\n",
    "df_released.shape"
   ]
  },
  {
   "cell_type": "code",
   "execution_count": 14,
   "metadata": {},
   "outputs": [
    {
     "data": {
      "image/png": "[encoded data removed]",
      "text/plain": [
       "<Figure size 640x480 with 1 Axes>"
      ]
     },
     "metadata": {},
     "output_type": "display_data"
    }
   ],
   "source": [
    "#REVISÓN DE LA COLUMNA RUNTIME, EFECTIVAMENTE HAY OUTLIERS, TANTO QUE LA GRÁFICA NO SE VE CLARO\n",
    "#SACARÉ EL TOTAL DE OUTLIERS, PARA 0 ES UN ERROR, YA QUE NO PUEDE HABER PELÍCULAS CON 0 EN TIEMPO\n",
    "#DE DURACIÓN, Y DEL LÍMITE SUPERIOR, NO NECESARIAMENTE SON PELÍCULAS, LA MAYORÍA SON SERIES Y \n",
    "#DOCUMENTALES, LOS ELIMINARÉ PARA EFECTOS DEL MODELO\n",
    "sns.boxplot(x = 'runtime', data = df_released)\n",
    "plt.show()"
   ]
  },
  {
   "cell_type": "code",
   "execution_count": 15,
   "metadata": {},
   "outputs": [
    {
     "name": "stdout",
     "output_type": "stream",
     "text": [
      "Q1=85.0, Q3=107.0, IQR=22.0, BINF=52.0, BSUP=140.0\n"
     ]
    }
   ],
   "source": [
    "#Checando rangos intercuartílicos, para obtener los outliers (me interesan los del límite superior)\n",
    "q1 = df_released['runtime'].quantile(0.25)\n",
    "q3 = df_released['runtime'].quantile(0.75)\n",
    "iqr = q3 - q1\n",
    "bInf = q1 - 1.5*iqr\n",
    "bSup = q3 + 1.5*iqr\n",
    "\n",
    "print(f'Q1={q1}, Q3={q3}, IQR={iqr}, BINF={bInf}, BSUP={bSup}')"
   ]
  },
  {
   "cell_type": "code",
   "execution_count": 16,
   "metadata": {},
   "outputs": [
    {
     "name": "stderr",
     "output_type": "stream",
     "text": [
      "C:\\Users\\nanci\\AppData\\Local\\Temp\\ipykernel_11084\\503344560.py:2: SettingWithCopyWarning: \n",
      "A value is trying to be set on a copy of a slice from a DataFrame.\n",
      "Try using .loc[row_indexer,col_indexer] = value instead\n",
      "\n",
      "See the caveats in the documentation: https://pandas.pydata.org/pandas-docs/stable/user_guide/indexing.html#returning-a-view-versus-a-copy\n",
      "  df_released['outlier_runtime'] = np.where(df_released['runtime']>=bSup, '0', '1')\n"
     ]
    },
    {
     "data": {
      "text/html": [
       "<div>\n",
       "<style scoped>\n",
       "    .dataframe tbody tr th:only-of-type {\n",
       "        vertical-align: middle;\n",
       "    }\n",
       "\n",
       "    .dataframe tbody tr th {\n",
       "        vertical-align: top;\n",
       "    }\n",
       "\n",
       "    .dataframe thead th {\n",
       "        text-align: right;\n",
       "    }\n",
       "</style>\n",
       "<table border=\"1\" class=\"dataframe\">\n",
       "  <thead>\n",
       "    <tr style=\"text-align: right;\">\n",
       "      <th></th>\n",
       "      <th>belongs_to_collection</th>\n",
       "      <th>genres</th>\n",
       "      <th>overview</th>\n",
       "      <th>popularity</th>\n",
       "      <th>production_companies</th>\n",
       "      <th>production_countries</th>\n",
       "      <th>runtime</th>\n",
       "      <th>spoken_languages</th>\n",
       "      <th>status</th>\n",
       "      <th>title</th>\n",
       "      <th>vote_average</th>\n",
       "      <th>vote_count</th>\n",
       "      <th>cast</th>\n",
       "      <th>crew</th>\n",
       "      <th>release_year</th>\n",
       "      <th>outlier_runtime</th>\n",
       "    </tr>\n",
       "  </thead>\n",
       "  <tbody>\n",
       "    <tr>\n",
       "      <th>0</th>\n",
       "      <td>Toy Story Collection</td>\n",
       "      <td>['Animation', 'Comedy', 'Family']</td>\n",
       "      <td>Led by Woody, Andy's toys live happily in his ...</td>\n",
       "      <td>21.946943</td>\n",
       "      <td>['Pixar Animation Studios']</td>\n",
       "      <td>['United States of America']</td>\n",
       "      <td>81.0</td>\n",
       "      <td>['English']</td>\n",
       "      <td>Released</td>\n",
       "      <td>Toy Story</td>\n",
       "      <td>7.7</td>\n",
       "      <td>5415.0</td>\n",
       "      <td>['Tom Hanks', 'Tim Allen', 'Don Rickles', 'Jim...</td>\n",
       "      <td>['John Lasseter']</td>\n",
       "      <td>1995</td>\n",
       "      <td>1</td>\n",
       "    </tr>\n",
       "    <tr>\n",
       "      <th>1</th>\n",
       "      <td>NaN</td>\n",
       "      <td>['Adventure', 'Fantasy', 'Family']</td>\n",
       "      <td>When siblings Judy and Peter discover an encha...</td>\n",
       "      <td>17.015539</td>\n",
       "      <td>['TriStar Pictures', 'Teitler Film', 'Intersco...</td>\n",
       "      <td>['United States of America']</td>\n",
       "      <td>104.0</td>\n",
       "      <td>['English', 'Français']</td>\n",
       "      <td>Released</td>\n",
       "      <td>Jumanji</td>\n",
       "      <td>6.9</td>\n",
       "      <td>2413.0</td>\n",
       "      <td>['Robin Williams', 'Jonathan Hyde', 'Kirsten D...</td>\n",
       "      <td>['Joe Johnston']</td>\n",
       "      <td>1995</td>\n",
       "      <td>1</td>\n",
       "    </tr>\n",
       "    <tr>\n",
       "      <th>2</th>\n",
       "      <td>Grumpy Old Men Collection</td>\n",
       "      <td>['Romance', 'Comedy']</td>\n",
       "      <td>A family wedding reignites the ancient feud be...</td>\n",
       "      <td>11.712900</td>\n",
       "      <td>['Warner Bros.', 'Lancaster Gate']</td>\n",
       "      <td>['United States of America']</td>\n",
       "      <td>101.0</td>\n",
       "      <td>['English']</td>\n",
       "      <td>Released</td>\n",
       "      <td>Grumpier Old Men</td>\n",
       "      <td>6.5</td>\n",
       "      <td>92.0</td>\n",
       "      <td>['Walter Matthau', 'Jack Lemmon', 'Ann-Margret...</td>\n",
       "      <td>['Howard Deutch']</td>\n",
       "      <td>1995</td>\n",
       "      <td>1</td>\n",
       "    </tr>\n",
       "    <tr>\n",
       "      <th>3</th>\n",
       "      <td>NaN</td>\n",
       "      <td>['Comedy', 'Drama', 'Romance']</td>\n",
       "      <td>Cheated on, mistreated and stepped on, the wom...</td>\n",
       "      <td>3.859495</td>\n",
       "      <td>['Twentieth Century Fox Film Corporation']</td>\n",
       "      <td>['United States of America']</td>\n",
       "      <td>127.0</td>\n",
       "      <td>['English']</td>\n",
       "      <td>Released</td>\n",
       "      <td>Waiting to Exhale</td>\n",
       "      <td>6.1</td>\n",
       "      <td>34.0</td>\n",
       "      <td>['Whitney Houston', 'Angela Bassett', 'Loretta...</td>\n",
       "      <td>['Forest Whitaker']</td>\n",
       "      <td>1995</td>\n",
       "      <td>1</td>\n",
       "    </tr>\n",
       "    <tr>\n",
       "      <th>4</th>\n",
       "      <td>Father of the Bride Collection</td>\n",
       "      <td>['Comedy']</td>\n",
       "      <td>Just when George Banks has recovered from his ...</td>\n",
       "      <td>8.387519</td>\n",
       "      <td>['Sandollar Productions', 'Touchstone Pictures']</td>\n",
       "      <td>['United States of America']</td>\n",
       "      <td>106.0</td>\n",
       "      <td>['English']</td>\n",
       "      <td>Released</td>\n",
       "      <td>Father of the Bride Part II</td>\n",
       "      <td>5.7</td>\n",
       "      <td>173.0</td>\n",
       "      <td>['Steve Martin', 'Diane Keaton', 'Martin Short...</td>\n",
       "      <td>['Charles Shyer']</td>\n",
       "      <td>1995</td>\n",
       "      <td>1</td>\n",
       "    </tr>\n",
       "  </tbody>\n",
       "</table>\n",
       "</div>"
      ],
      "text/plain": [
       "            belongs_to_collection                              genres  \\\n",
       "0            Toy Story Collection   ['Animation', 'Comedy', 'Family']   \n",
       "1                             NaN  ['Adventure', 'Fantasy', 'Family']   \n",
       "2       Grumpy Old Men Collection               ['Romance', 'Comedy']   \n",
       "3                             NaN      ['Comedy', 'Drama', 'Romance']   \n",
       "4  Father of the Bride Collection                          ['Comedy']   \n",
       "\n",
       "                                            overview  popularity  \\\n",
       "0  Led by Woody, Andy's toys live happily in his ...   21.946943   \n",
       "1  When siblings Judy and Peter discover an encha...   17.015539   \n",
       "2  A family wedding reignites the ancient feud be...   11.712900   \n",
       "3  Cheated on, mistreated and stepped on, the wom...    3.859495   \n",
       "4  Just when George Banks has recovered from his ...    8.387519   \n",
       "\n",
       "                                production_companies  \\\n",
       "0                        ['Pixar Animation Studios']   \n",
       "1  ['TriStar Pictures', 'Teitler Film', 'Intersco...   \n",
       "2                 ['Warner Bros.', 'Lancaster Gate']   \n",
       "3         ['Twentieth Century Fox Film Corporation']   \n",
       "4   ['Sandollar Productions', 'Touchstone Pictures']   \n",
       "\n",
       "           production_countries  runtime         spoken_languages    status  \\\n",
       "0  ['United States of America']     81.0              ['English']  Released   \n",
       "1  ['United States of America']    104.0  ['English', 'Français']  Released   \n",
       "2  ['United States of America']    101.0              ['English']  Released   \n",
       "3  ['United States of America']    127.0              ['English']  Released   \n",
       "4  ['United States of America']    106.0              ['English']  Released   \n",
       "\n",
       "                         title  vote_average  vote_count  \\\n",
       "0                    Toy Story           7.7      5415.0   \n",
       "1                      Jumanji           6.9      2413.0   \n",
       "2             Grumpier Old Men           6.5        92.0   \n",
       "3            Waiting to Exhale           6.1        34.0   \n",
       "4  Father of the Bride Part II           5.7       173.0   \n",
       "\n",
       "                                                cast                 crew  \\\n",
       "0  ['Tom Hanks', 'Tim Allen', 'Don Rickles', 'Jim...    ['John Lasseter']   \n",
       "1  ['Robin Williams', 'Jonathan Hyde', 'Kirsten D...     ['Joe Johnston']   \n",
       "2  ['Walter Matthau', 'Jack Lemmon', 'Ann-Margret...    ['Howard Deutch']   \n",
       "3  ['Whitney Houston', 'Angela Bassett', 'Loretta...  ['Forest Whitaker']   \n",
       "4  ['Steve Martin', 'Diane Keaton', 'Martin Short...    ['Charles Shyer']   \n",
       "\n",
       "   release_year outlier_runtime  \n",
       "0          1995               1  \n",
       "1          1995               1  \n",
       "2          1995               1  \n",
       "3          1995               1  \n",
       "4          1995               1  "
      ]
     },
     "execution_count": 16,
     "metadata": {},
     "output_type": "execute_result"
    }
   ],
   "source": [
    "#Se tomaron cómo series a los outliers fuera del límite del rango superior\n",
    "df_released['outlier_runtime'] = np.where(df_released['runtime']>=bSup, '0', '1')\n",
    "df_released.head(5)"
   ]
  },
  {
   "cell_type": "code",
   "execution_count": 17,
   "metadata": {},
   "outputs": [
    {
     "data": {
      "text/plain": [
       "1    42930\n",
       "0     2079\n",
       "Name: outlier_runtime, dtype: int64"
      ]
     },
     "execution_count": 17,
     "metadata": {},
     "output_type": "execute_result"
    }
   ],
   "source": [
    "df_released.outlier_runtime.value_counts()"
   ]
  },
  {
   "cell_type": "code",
   "execution_count": 18,
   "metadata": {},
   "outputs": [
    {
     "data": {
      "text/plain": [
       "(42930, 16)"
      ]
     },
     "execution_count": 18,
     "metadata": {},
     "output_type": "execute_result"
    }
   ],
   "source": [
    "df_runtime = df_released.drop(df_released[df_released['outlier_runtime']=='0'].index)\n",
    "df_runtime.shape"
   ]
  },
  {
   "cell_type": "code",
   "execution_count": 19,
   "metadata": {},
   "outputs": [
    {
     "data": {
      "image/png": "[encoded data removed]",
      "text/plain": [
       "<Figure size 640x480 with 1 Axes>"
      ]
     },
     "metadata": {},
     "output_type": "display_data"
    }
   ],
   "source": [
    "#REVISÓN DE LA COLUMNA POPULARITY, PARA EFECTOS DEL MODELO, SE QUIERE RECOMENDAR UNA PELÍCULA\n",
    "#QUE SEA FAMOSA, SOBRE UNA DESCONOCIDA, SE ANALIZARÁ MEJOR DICHOS RESULTADOS PARA TOMAR UNA DECISIÓN\n",
    "sns.boxplot(x = 'popularity', data = df_runtime)\n",
    "plt.show()"
   ]
  },
  {
   "cell_type": "code",
   "execution_count": 20,
   "metadata": {},
   "outputs": [
    {
     "name": "stdout",
     "output_type": "stream",
     "text": [
      "Q1=0.38739225, Q3=3.702294, IQR=3.31490175, BINF=-4.584960375, BSUP=8.674646625000001\n"
     ]
    }
   ],
   "source": [
    "#Checando rangos intercuartílicos, para obtener los outliers (me interesan los del límite superior)\n",
    "q1 = df_runtime['popularity'].quantile(0.25)\n",
    "q3 = df_runtime['popularity'].quantile(0.75)\n",
    "iqr = q3 - q1\n",
    "bInf = q1 - 1.5*iqr\n",
    "bSup = q3 + 1.5*iqr\n",
    "\n",
    "print(f'Q1={q1}, Q3={q3}, IQR={iqr}, BINF={bInf}, BSUP={bSup}')"
   ]
  },
  {
   "cell_type": "code",
   "execution_count": 21,
   "metadata": {},
   "outputs": [
    {
     "data": {
      "text/plain": [
       "count    42930.000000\n",
       "mean         2.877821\n",
       "std          5.589930\n",
       "min          0.000000\n",
       "25%          0.387392\n",
       "50%          1.131324\n",
       "75%          3.702294\n",
       "max        547.488298\n",
       "Name: popularity, dtype: float64"
      ]
     },
     "execution_count": 21,
     "metadata": {},
     "output_type": "execute_result"
    }
   ],
   "source": [
    "df_runtime['popularity'].describe()"
   ]
  },
  {
   "cell_type": "code",
   "execution_count": 22,
   "metadata": {},
   "outputs": [
    {
     "name": "stdout",
     "output_type": "stream",
     "text": [
      "Porcentaje de datos en ceros para la columna popularity: 0.09%\n"
     ]
    }
   ],
   "source": [
    "#OBTENCIÓN DE PORCENTAJE DE NULOS PARA POPULARITY, LOS NULOS SON MUY BAJOS ASÍ QUE SE PUEDE\n",
    "#APLICAR UN FILTRO PARA ESTA COLUMNA\n",
    "porcentaje_ceros = ((df_runtime[df_runtime['popularity']==0].shape[0])/df_runtime.shape[0]) * 100\n",
    "print(f'Porcentaje de datos en ceros para la columna popularity: {porcentaje_ceros:.2F}%')"
   ]
  },
  {
   "cell_type": "code",
   "execution_count": 23,
   "metadata": {},
   "outputs": [
    {
     "data": {
      "text/plain": [
       "(34276, 16)"
      ]
     },
     "execution_count": 23,
     "metadata": {},
     "output_type": "execute_result"
    }
   ],
   "source": [
    "#SE TOMA LA DECISIÓN DE ELIMINAR TODOS LAS PELÍCULAS QUE ESTÁN INFERIOR A Q1, YA QUE NO SON\n",
    "#INDISPENSABLES PARA ENTRENAR EL MODELO\n",
    "df_popularity = df_released.drop(df_runtime[df_runtime['popularity']<q1].index)\n",
    "df_popularity.shape\n"
   ]
  },
  {
   "cell_type": "code",
   "execution_count": 24,
   "metadata": {},
   "outputs": [
    {
     "data": {
      "text/plain": [
       "<seaborn.axisgrid.FacetGrid at 0x1c76efcd510>"
      ]
     },
     "execution_count": 24,
     "metadata": {},
     "output_type": "execute_result"
    },
    {
     "data": {
      "image/png": "[encoded data removed]",
      "text/plain": [
       "<Figure size 500x500 with 1 Axes>"
      ]
     },
     "metadata": {},
     "output_type": "display_data"
    }
   ],
   "source": [
    "#A CONTINUACIÓN SE EXAMINA LA COLUMNA VOTE_COUNT y POPULARITY, Y VER SI ESTÁN CORRELACIONADAS, \n",
    "#SE OBSERVA HAY UNA RELACIÓN A MENOR POPULARIDAD, MENOS VOTOS POR LOS ESPECTADORES\n",
    "\n",
    "sns.relplot(x='vote_count', y='popularity', data=df_popularity)"
   ]
  },
  {
   "cell_type": "code",
   "execution_count": 25,
   "metadata": {},
   "outputs": [
    {
     "data": {
      "text/plain": [
       "count    34276.000000\n",
       "mean         3.821004\n",
       "std          6.665650\n",
       "min          0.000000\n",
       "25%          0.879719\n",
       "50%          1.840682\n",
       "75%          5.354953\n",
       "max        547.488298\n",
       "Name: popularity, dtype: float64"
      ]
     },
     "execution_count": 25,
     "metadata": {},
     "output_type": "execute_result"
    }
   ],
   "source": [
    "df_popularity['popularity'].describe()"
   ]
  },
  {
   "cell_type": "code",
   "execution_count": 26,
   "metadata": {},
   "outputs": [
    {
     "data": {
      "text/plain": [
       "count    34276.000000\n",
       "mean       144.873673\n",
       "std        561.373503\n",
       "min          0.000000\n",
       "25%          7.000000\n",
       "50%         17.000000\n",
       "75%         55.000000\n",
       "max      14075.000000\n",
       "Name: vote_count, dtype: float64"
      ]
     },
     "execution_count": 26,
     "metadata": {},
     "output_type": "execute_result"
    }
   ],
   "source": [
    "df_popularity['vote_count'].describe()"
   ]
  },
  {
   "cell_type": "code",
   "execution_count": 43,
   "metadata": {},
   "outputs": [
    {
     "data": {
      "text/plain": [
       "<seaborn.axisgrid.FacetGrid at 0x1c771f4fa10>"
      ]
     },
     "execution_count": 43,
     "metadata": {},
     "output_type": "execute_result"
    },
    {
     "data": {
      "image/png": "[encoded data removed]",
      "text/plain": [
       "<Figure size 500x500 with 1 Axes>"
      ]
     },
     "metadata": {},
     "output_type": "display_data"
    }
   ],
   "source": [
    "#ANALIZEMOS UN POCO MÁS DE CERCA,la correlación es evidente, a menor voto, menor popularidad, \n",
    "#así que se procede a la eliminación de esos datos, para mejorar el modelo de recomendación\n",
    "mask4 = df_popularity[df_popularity['vote_count']<300]\n",
    "sns.relplot(x='vote_count', y='popularity', data=mask4)"
   ]
  },
  {
   "cell_type": "code",
   "execution_count": 44,
   "metadata": {},
   "outputs": [
    {
     "data": {
      "text/plain": [
       "(31240, 16)"
      ]
     },
     "execution_count": 44,
     "metadata": {},
     "output_type": "execute_result"
    }
   ],
   "source": [
    "mask4.shape"
   ]
  },
  {
   "cell_type": "code",
   "execution_count": 45,
   "metadata": {},
   "outputs": [
    {
     "name": "stdout",
     "output_type": "stream",
     "text": [
      "Q1=7.0, Q3=55.0, IQR=48.0, BINF=-65.0, BSUP=127.0\n"
     ]
    }
   ],
   "source": [
    "#Checando rangos intercuartílicos, para obtener los outliers (me interesan los del límite superior)\n",
    "q1 = df_popularity['vote_count'].quantile(0.25)\n",
    "q3 = df_popularity['vote_count'].quantile(0.75)\n",
    "iqr = q3 - q1\n",
    "bInf = q1 - 1.5*iqr\n",
    "bSup = q3 + 1.5*iqr\n",
    "\n",
    "print(f'Q1={q1}, Q3={q3}, IQR={iqr}, BINF={bInf}, BSUP={bSup}')"
   ]
  },
  {
   "cell_type": "code",
   "execution_count": 46,
   "metadata": {},
   "outputs": [
    {
     "data": {
      "text/plain": [
       "(3036, 16)"
      ]
     },
     "execution_count": 46,
     "metadata": {},
     "output_type": "execute_result"
    }
   ],
   "source": [
    "df_vote = df_popularity.drop(df_popularity[df_popularity['vote_count']<300].index)\n",
    "df_vote.shape"
   ]
  },
  {
   "attachments": {},
   "cell_type": "markdown",
   "metadata": {},
   "source": [
    "Eliminación de las columnas analizadas, ya que no aportan al modelado que se realizará más adelante"
   ]
  },
  {
   "cell_type": "code",
   "execution_count": 47,
   "metadata": {},
   "outputs": [
    {
     "data": {
      "text/html": [
       "<div>\n",
       "<style scoped>\n",
       "    .dataframe tbody tr th:only-of-type {\n",
       "        vertical-align: middle;\n",
       "    }\n",
       "\n",
       "    .dataframe tbody tr th {\n",
       "        vertical-align: top;\n",
       "    }\n",
       "\n",
       "    .dataframe thead th {\n",
       "        text-align: right;\n",
       "    }\n",
       "</style>\n",
       "<table border=\"1\" class=\"dataframe\">\n",
       "  <thead>\n",
       "    <tr style=\"text-align: right;\">\n",
       "      <th></th>\n",
       "      <th>belongs_to_collection</th>\n",
       "      <th>genres</th>\n",
       "      <th>overview</th>\n",
       "      <th>popularity</th>\n",
       "      <th>production_companies</th>\n",
       "      <th>production_countries</th>\n",
       "      <th>spoken_languages</th>\n",
       "      <th>title</th>\n",
       "      <th>cast</th>\n",
       "      <th>crew</th>\n",
       "      <th>release_year</th>\n",
       "      <th>outlier_runtime</th>\n",
       "    </tr>\n",
       "  </thead>\n",
       "  <tbody>\n",
       "    <tr>\n",
       "      <th>0</th>\n",
       "      <td>Toy Story Collection</td>\n",
       "      <td>['Animation', 'Comedy', 'Family']</td>\n",
       "      <td>Led by Woody, Andy's toys live happily in his ...</td>\n",
       "      <td>21.946943</td>\n",
       "      <td>['Pixar Animation Studios']</td>\n",
       "      <td>['United States of America']</td>\n",
       "      <td>['English']</td>\n",
       "      <td>Toy Story</td>\n",
       "      <td>['Tom Hanks', 'Tim Allen', 'Don Rickles', 'Jim...</td>\n",
       "      <td>['John Lasseter']</td>\n",
       "      <td>1995</td>\n",
       "      <td>1</td>\n",
       "    </tr>\n",
       "    <tr>\n",
       "      <th>1</th>\n",
       "      <td>NaN</td>\n",
       "      <td>['Adventure', 'Fantasy', 'Family']</td>\n",
       "      <td>When siblings Judy and Peter discover an encha...</td>\n",
       "      <td>17.015539</td>\n",
       "      <td>['TriStar Pictures', 'Teitler Film', 'Intersco...</td>\n",
       "      <td>['United States of America']</td>\n",
       "      <td>['English', 'Français']</td>\n",
       "      <td>Jumanji</td>\n",
       "      <td>['Robin Williams', 'Jonathan Hyde', 'Kirsten D...</td>\n",
       "      <td>['Joe Johnston']</td>\n",
       "      <td>1995</td>\n",
       "      <td>1</td>\n",
       "    </tr>\n",
       "    <tr>\n",
       "      <th>5</th>\n",
       "      <td>NaN</td>\n",
       "      <td>['Action', 'Crime', 'Drama', 'Thriller']</td>\n",
       "      <td>Obsessive master thief, Neil McCauley leads a ...</td>\n",
       "      <td>17.924927</td>\n",
       "      <td>['Regency Enterprises', 'Forward Pass', 'Warne...</td>\n",
       "      <td>['United States of America']</td>\n",
       "      <td>['English', 'Español']</td>\n",
       "      <td>Heat</td>\n",
       "      <td>['Al Pacino', 'Robert De Niro', 'Val Kilmer', ...</td>\n",
       "      <td>['Michael Mann']</td>\n",
       "      <td>1995</td>\n",
       "      <td>0</td>\n",
       "    </tr>\n",
       "    <tr>\n",
       "      <th>9</th>\n",
       "      <td>James Bond Collection</td>\n",
       "      <td>['Adventure', 'Action', 'Thriller']</td>\n",
       "      <td>James Bond must unmask the mysterious head of ...</td>\n",
       "      <td>14.686036</td>\n",
       "      <td>['United Artists', 'Eon Productions']</td>\n",
       "      <td>['United Kingdom', 'United States of America']</td>\n",
       "      <td>['English', 'Pусский', 'Español']</td>\n",
       "      <td>GoldenEye</td>\n",
       "      <td>['Pierce Brosnan', 'Sean Bean', 'Izabella Scor...</td>\n",
       "      <td>['Martin Campbell']</td>\n",
       "      <td>1995</td>\n",
       "      <td>1</td>\n",
       "    </tr>\n",
       "    <tr>\n",
       "      <th>12</th>\n",
       "      <td>Balto Collection</td>\n",
       "      <td>['Family', 'Animation', 'Adventure']</td>\n",
       "      <td>An outcast half-wolf risks his life to prevent...</td>\n",
       "      <td>12.140733</td>\n",
       "      <td>['Universal Pictures', 'Amblin Entertainment',...</td>\n",
       "      <td>['United States of America']</td>\n",
       "      <td>['English']</td>\n",
       "      <td>Balto</td>\n",
       "      <td>['Kevin Bacon', 'Bob Hoskins', 'Bridget Fonda'...</td>\n",
       "      <td>['Simon Wells']</td>\n",
       "      <td>1995</td>\n",
       "      <td>1</td>\n",
       "    </tr>\n",
       "    <tr>\n",
       "      <th>...</th>\n",
       "      <td>...</td>\n",
       "      <td>...</td>\n",
       "      <td>...</td>\n",
       "      <td>...</td>\n",
       "      <td>...</td>\n",
       "      <td>...</td>\n",
       "      <td>...</td>\n",
       "      <td>...</td>\n",
       "      <td>...</td>\n",
       "      <td>...</td>\n",
       "      <td>...</td>\n",
       "      <td>...</td>\n",
       "    </tr>\n",
       "    <tr>\n",
       "      <th>44942</th>\n",
       "      <td>NaN</td>\n",
       "      <td>['Comedy']</td>\n",
       "      <td>Three friends leave Milan by car heading south...</td>\n",
       "      <td>5.149498</td>\n",
       "      <td>['Rodeo Drive']</td>\n",
       "      <td>['Italy']</td>\n",
       "      <td>['Italiano']</td>\n",
       "      <td>Three Men and a Leg</td>\n",
       "      <td>['Aldo Baglio', 'Giovanni Storti', 'Giacomo Po...</td>\n",
       "      <td>['Massimo Venier', 'Aldo Baglio', 'Giovanni St...</td>\n",
       "      <td>1997</td>\n",
       "      <td>1</td>\n",
       "    </tr>\n",
       "    <tr>\n",
       "      <th>45006</th>\n",
       "      <td>NaN</td>\n",
       "      <td>['Action', 'Western', 'Science Fiction', 'Fant...</td>\n",
       "      <td>The last Gunslinger, Roland Deschain, has been...</td>\n",
       "      <td>50.903593</td>\n",
       "      <td>['Imagine Entertainment', 'Weed Road Pictures'...</td>\n",
       "      <td>['South Africa', 'United States of America']</td>\n",
       "      <td>['English']</td>\n",
       "      <td>The Dark Tower</td>\n",
       "      <td>['Idris Elba', 'Matthew McConaughey', 'Tom Tay...</td>\n",
       "      <td>['Nikolaj Arcel']</td>\n",
       "      <td>2017</td>\n",
       "      <td>1</td>\n",
       "    </tr>\n",
       "    <tr>\n",
       "      <th>45130</th>\n",
       "      <td>NaN</td>\n",
       "      <td>['Comedy', 'Family', 'Animation']</td>\n",
       "      <td>Gene, a multi-expressional emoji, sets out on ...</td>\n",
       "      <td>33.694599</td>\n",
       "      <td>['Columbia Pictures', 'Sony Pictures Animation']</td>\n",
       "      <td>['United States of America']</td>\n",
       "      <td>['English']</td>\n",
       "      <td>The Emoji Movie</td>\n",
       "      <td>['T.J. Miller', 'James Corden', 'Anna Faris', ...</td>\n",
       "      <td>['Anthony Leondis']</td>\n",
       "      <td>2017</td>\n",
       "      <td>1</td>\n",
       "    </tr>\n",
       "    <tr>\n",
       "      <th>45164</th>\n",
       "      <td>NaN</td>\n",
       "      <td>['Drama', 'Crime', 'Thriller']</td>\n",
       "      <td>A newly-released prison gangster is forced by ...</td>\n",
       "      <td>15.786854</td>\n",
       "      <td>['Bold Films', 'Participant Media', 'Relativit...</td>\n",
       "      <td>['United States of America']</td>\n",
       "      <td>['English']</td>\n",
       "      <td>Shot Caller</td>\n",
       "      <td>['Nikolaj Coster-Waldau', 'Jon Bernthal', 'Lak...</td>\n",
       "      <td>['Ric Roman Waugh']</td>\n",
       "      <td>2017</td>\n",
       "      <td>1</td>\n",
       "    </tr>\n",
       "    <tr>\n",
       "      <th>45193</th>\n",
       "      <td>NaN</td>\n",
       "      <td>['Comedy']</td>\n",
       "      <td>Four girlfriends take a trip to New Orleans fo...</td>\n",
       "      <td>37.964872</td>\n",
       "      <td>['Universal Pictures', 'Will Packer Productions']</td>\n",
       "      <td>['United States of America']</td>\n",
       "      <td>['English']</td>\n",
       "      <td>Girls Trip</td>\n",
       "      <td>['Regina Hall', 'Queen Latifah', 'Jada Pinkett...</td>\n",
       "      <td>['Malcolm D. Lee']</td>\n",
       "      <td>2017</td>\n",
       "      <td>1</td>\n",
       "    </tr>\n",
       "  </tbody>\n",
       "</table>\n",
       "<p>3036 rows × 12 columns</p>\n",
       "</div>"
      ],
      "text/plain": [
       "       belongs_to_collection  \\\n",
       "0       Toy Story Collection   \n",
       "1                        NaN   \n",
       "5                        NaN   \n",
       "9      James Bond Collection   \n",
       "12          Balto Collection   \n",
       "...                      ...   \n",
       "44942                    NaN   \n",
       "45006                    NaN   \n",
       "45130                    NaN   \n",
       "45164                    NaN   \n",
       "45193                    NaN   \n",
       "\n",
       "                                                  genres  \\\n",
       "0                      ['Animation', 'Comedy', 'Family']   \n",
       "1                     ['Adventure', 'Fantasy', 'Family']   \n",
       "5               ['Action', 'Crime', 'Drama', 'Thriller']   \n",
       "9                    ['Adventure', 'Action', 'Thriller']   \n",
       "12                  ['Family', 'Animation', 'Adventure']   \n",
       "...                                                  ...   \n",
       "44942                                         ['Comedy']   \n",
       "45006  ['Action', 'Western', 'Science Fiction', 'Fant...   \n",
       "45130                  ['Comedy', 'Family', 'Animation']   \n",
       "45164                     ['Drama', 'Crime', 'Thriller']   \n",
       "45193                                         ['Comedy']   \n",
       "\n",
       "                                                overview  popularity  \\\n",
       "0      Led by Woody, Andy's toys live happily in his ...   21.946943   \n",
       "1      When siblings Judy and Peter discover an encha...   17.015539   \n",
       "5      Obsessive master thief, Neil McCauley leads a ...   17.924927   \n",
       "9      James Bond must unmask the mysterious head of ...   14.686036   \n",
       "12     An outcast half-wolf risks his life to prevent...   12.140733   \n",
       "...                                                  ...         ...   \n",
       "44942  Three friends leave Milan by car heading south...    5.149498   \n",
       "45006  The last Gunslinger, Roland Deschain, has been...   50.903593   \n",
       "45130  Gene, a multi-expressional emoji, sets out on ...   33.694599   \n",
       "45164  A newly-released prison gangster is forced by ...   15.786854   \n",
       "45193  Four girlfriends take a trip to New Orleans fo...   37.964872   \n",
       "\n",
       "                                    production_companies  \\\n",
       "0                            ['Pixar Animation Studios']   \n",
       "1      ['TriStar Pictures', 'Teitler Film', 'Intersco...   \n",
       "5      ['Regency Enterprises', 'Forward Pass', 'Warne...   \n",
       "9                  ['United Artists', 'Eon Productions']   \n",
       "12     ['Universal Pictures', 'Amblin Entertainment',...   \n",
       "...                                                  ...   \n",
       "44942                                    ['Rodeo Drive']   \n",
       "45006  ['Imagine Entertainment', 'Weed Road Pictures'...   \n",
       "45130   ['Columbia Pictures', 'Sony Pictures Animation']   \n",
       "45164  ['Bold Films', 'Participant Media', 'Relativit...   \n",
       "45193  ['Universal Pictures', 'Will Packer Productions']   \n",
       "\n",
       "                                 production_countries  \\\n",
       "0                        ['United States of America']   \n",
       "1                        ['United States of America']   \n",
       "5                        ['United States of America']   \n",
       "9      ['United Kingdom', 'United States of America']   \n",
       "12                       ['United States of America']   \n",
       "...                                               ...   \n",
       "44942                                       ['Italy']   \n",
       "45006    ['South Africa', 'United States of America']   \n",
       "45130                    ['United States of America']   \n",
       "45164                    ['United States of America']   \n",
       "45193                    ['United States of America']   \n",
       "\n",
       "                        spoken_languages                title  \\\n",
       "0                            ['English']            Toy Story   \n",
       "1                ['English', 'Français']              Jumanji   \n",
       "5                 ['English', 'Español']                 Heat   \n",
       "9      ['English', 'Pусский', 'Español']            GoldenEye   \n",
       "12                           ['English']                Balto   \n",
       "...                                  ...                  ...   \n",
       "44942                       ['Italiano']  Three Men and a Leg   \n",
       "45006                        ['English']       The Dark Tower   \n",
       "45130                        ['English']      The Emoji Movie   \n",
       "45164                        ['English']          Shot Caller   \n",
       "45193                        ['English']           Girls Trip   \n",
       "\n",
       "                                                    cast  \\\n",
       "0      ['Tom Hanks', 'Tim Allen', 'Don Rickles', 'Jim...   \n",
       "1      ['Robin Williams', 'Jonathan Hyde', 'Kirsten D...   \n",
       "5      ['Al Pacino', 'Robert De Niro', 'Val Kilmer', ...   \n",
       "9      ['Pierce Brosnan', 'Sean Bean', 'Izabella Scor...   \n",
       "12     ['Kevin Bacon', 'Bob Hoskins', 'Bridget Fonda'...   \n",
       "...                                                  ...   \n",
       "44942  ['Aldo Baglio', 'Giovanni Storti', 'Giacomo Po...   \n",
       "45006  ['Idris Elba', 'Matthew McConaughey', 'Tom Tay...   \n",
       "45130  ['T.J. Miller', 'James Corden', 'Anna Faris', ...   \n",
       "45164  ['Nikolaj Coster-Waldau', 'Jon Bernthal', 'Lak...   \n",
       "45193  ['Regina Hall', 'Queen Latifah', 'Jada Pinkett...   \n",
       "\n",
       "                                                    crew  release_year  \\\n",
       "0                                      ['John Lasseter']          1995   \n",
       "1                                       ['Joe Johnston']          1995   \n",
       "5                                       ['Michael Mann']          1995   \n",
       "9                                    ['Martin Campbell']          1995   \n",
       "12                                       ['Simon Wells']          1995   \n",
       "...                                                  ...           ...   \n",
       "44942  ['Massimo Venier', 'Aldo Baglio', 'Giovanni St...          1997   \n",
       "45006                                  ['Nikolaj Arcel']          2017   \n",
       "45130                                ['Anthony Leondis']          2017   \n",
       "45164                                ['Ric Roman Waugh']          2017   \n",
       "45193                                 ['Malcolm D. Lee']          2017   \n",
       "\n",
       "      outlier_runtime  \n",
       "0                   1  \n",
       "1                   1  \n",
       "5                   0  \n",
       "9                   1  \n",
       "12                  1  \n",
       "...               ...  \n",
       "44942               1  \n",
       "45006               1  \n",
       "45130               1  \n",
       "45164               1  \n",
       "45193               1  \n",
       "\n",
       "[3036 rows x 12 columns]"
      ]
     },
     "execution_count": 47,
     "metadata": {},
     "output_type": "execute_result"
    }
   ],
   "source": [
    "df_filt = df_vote.drop(['status', 'runtime', 'vote_count', 'vote_average'], axis=1)\n",
    "df_filt"
   ]
  },
  {
   "attachments": {},
   "cell_type": "markdown",
   "metadata": {},
   "source": [
    "Es momento de eliminar duplicados de películas, hay unas películas que tienen mismo nombre pero diferente producción, sin embargo, para el objetivo del modelo de recomendación, es irrelevante, ya que sólo nos retornará el nombre de la película sin informackión adicional, tomando en consideración esto, primero se ordenará por año en orden descendente y se eliminarán duplicados."
   ]
  },
  {
   "cell_type": "code",
   "execution_count": 48,
   "metadata": {},
   "outputs": [
    {
     "data": {
      "text/plain": [
       "(3036, 12)"
      ]
     },
     "execution_count": 48,
     "metadata": {},
     "output_type": "execute_result"
    }
   ],
   "source": [
    "\n",
    "by_year = df_filt.sort_values('release_year', ascending=False)\n",
    "by_year.shape\n"
   ]
  },
  {
   "cell_type": "code",
   "execution_count": 49,
   "metadata": {},
   "outputs": [
    {
     "data": {
      "text/plain": [
       "(2994, 12)"
      ]
     },
     "execution_count": 49,
     "metadata": {},
     "output_type": "execute_result"
    }
   ],
   "source": [
    "by_year.drop(by_year[(by_year['title'].duplicated())].index, inplace=True)\n",
    "by_year.shape"
   ]
  },
  {
   "cell_type": "code",
   "execution_count": 50,
   "metadata": {},
   "outputs": [
    {
     "name": "stderr",
     "output_type": "stream",
     "text": [
      "C:\\Users\\nanci\\AppData\\Local\\Temp\\ipykernel_11084\\1099830451.py:2: FutureWarning: The default value of regex will change from True to False in a future version.\n",
      "  by_year['genres'] = by_year['genres'].str.replace('[{}]'.format(string.punctuation), '')\n",
      "C:\\Users\\nanci\\AppData\\Local\\Temp\\ipykernel_11084\\1099830451.py:3: FutureWarning: The default value of regex will change from True to False in a future version.\n",
      "  by_year['overview'] = by_year['overview'].str.replace('[{}]'.format(string.punctuation), '')\n",
      "C:\\Users\\nanci\\AppData\\Local\\Temp\\ipykernel_11084\\1099830451.py:4: FutureWarning: The default value of regex will change from True to False in a future version.\n",
      "  by_year['production_companies'] = by_year['production_companies'].str.replace('[{}]'.format(string.punctuation), '')\n",
      "C:\\Users\\nanci\\AppData\\Local\\Temp\\ipykernel_11084\\1099830451.py:5: FutureWarning: The default value of regex will change from True to False in a future version.\n",
      "  by_year['spoken_languages'] = by_year['spoken_languages'].str.replace('[{}]'.format(string.punctuation), '')\n",
      "C:\\Users\\nanci\\AppData\\Local\\Temp\\ipykernel_11084\\1099830451.py:6: FutureWarning: The default value of regex will change from True to False in a future version.\n",
      "  by_year['crew'] = by_year['crew'].str.replace('[{}]'.format(string.punctuation), '')\n",
      "C:\\Users\\nanci\\AppData\\Local\\Temp\\ipykernel_11084\\1099830451.py:7: FutureWarning: The default value of regex will change from True to False in a future version.\n",
      "  by_year['cast'] = by_year['cast'].str.replace('[{}]'.format(string.punctuation), '')\n",
      "C:\\Users\\nanci\\AppData\\Local\\Temp\\ipykernel_11084\\1099830451.py:8: FutureWarning: The default value of regex will change from True to False in a future version.\n",
      "  by_year['production_countries'] = by_year['production_countries'].str.replace('[{}]'.format(string.punctuation), '')\n"
     ]
    }
   ],
   "source": [
    "#SE ELIMINAN SIGNOS DE PUNTUACIÓN A LAS VARIABLES CON TEXTO \n",
    "by_year['genres'] = by_year['genres'].str.replace('[{}]'.format(string.punctuation), '')\n",
    "by_year['overview'] = by_year['overview'].str.replace('[{}]'.format(string.punctuation), '')\n",
    "by_year['production_companies'] = by_year['production_companies'].str.replace('[{}]'.format(string.punctuation), '')\n",
    "by_year['spoken_languages'] = by_year['spoken_languages'].str.replace('[{}]'.format(string.punctuation), '')\n",
    "by_year['crew'] = by_year['crew'].str.replace('[{}]'.format(string.punctuation), '')\n",
    "by_year['cast'] = by_year['cast'].str.replace('[{}]'.format(string.punctuation), '')\n",
    "by_year['production_countries'] = by_year['production_countries'].str.replace('[{}]'.format(string.punctuation), '')"
   ]
  },
  {
   "cell_type": "code",
   "execution_count": 51,
   "metadata": {},
   "outputs": [
    {
     "data": {
      "text/html": [
       "<div>\n",
       "<style scoped>\n",
       "    .dataframe tbody tr th:only-of-type {\n",
       "        vertical-align: middle;\n",
       "    }\n",
       "\n",
       "    .dataframe tbody tr th {\n",
       "        vertical-align: top;\n",
       "    }\n",
       "\n",
       "    .dataframe thead th {\n",
       "        text-align: right;\n",
       "    }\n",
       "</style>\n",
       "<table border=\"1\" class=\"dataframe\">\n",
       "  <thead>\n",
       "    <tr style=\"text-align: right;\">\n",
       "      <th></th>\n",
       "      <th>belongs_to_collection</th>\n",
       "      <th>genres</th>\n",
       "      <th>overview</th>\n",
       "      <th>popularity</th>\n",
       "      <th>production_companies</th>\n",
       "      <th>production_countries</th>\n",
       "      <th>spoken_languages</th>\n",
       "      <th>title</th>\n",
       "      <th>cast</th>\n",
       "      <th>crew</th>\n",
       "      <th>release_year</th>\n",
       "      <th>outlier_runtime</th>\n",
       "    </tr>\n",
       "  </thead>\n",
       "  <tbody>\n",
       "    <tr>\n",
       "      <th>45193</th>\n",
       "      <td>NaN</td>\n",
       "      <td>Comedy</td>\n",
       "      <td>Four girlfriends take a trip to New Orleans fo...</td>\n",
       "      <td>37.964872</td>\n",
       "      <td>Universal Pictures Will Packer Productions</td>\n",
       "      <td>United States of America</td>\n",
       "      <td>English</td>\n",
       "      <td>Girls Trip</td>\n",
       "      <td>Regina Hall Queen Latifah Jada Pinkett Smith T...</td>\n",
       "      <td>Malcolm D Lee</td>\n",
       "      <td>2017</td>\n",
       "      <td>1</td>\n",
       "    </tr>\n",
       "    <tr>\n",
       "      <th>42859</th>\n",
       "      <td>NaN</td>\n",
       "      <td>Horror Science Fiction Thriller</td>\n",
       "      <td>The sixmember crew of the International Space ...</td>\n",
       "      <td>36.263803</td>\n",
       "      <td>Columbia Pictures Skydance Productions Sony Pi...</td>\n",
       "      <td>United States of America</td>\n",
       "      <td>广州话  廣州話 English 日本語</td>\n",
       "      <td>Life</td>\n",
       "      <td>Jake Gyllenhaal Rebecca Ferguson Ryan Reynolds...</td>\n",
       "      <td>Daniel Espinosa</td>\n",
       "      <td>2017</td>\n",
       "      <td>1</td>\n",
       "    </tr>\n",
       "    <tr>\n",
       "      <th>42545</th>\n",
       "      <td>NaN</td>\n",
       "      <td>Drama</td>\n",
       "      <td>A young woman dealing with anorexia meets an u...</td>\n",
       "      <td>9.128637</td>\n",
       "      <td>Mockingbird Pictures AMBI Group Sparkhouse Media</td>\n",
       "      <td>United States of America</td>\n",
       "      <td>English</td>\n",
       "      <td>To the Bone</td>\n",
       "      <td>Lily Collins Carrie Preston Lili Taylor Keanu ...</td>\n",
       "      <td>Marti Noxon</td>\n",
       "      <td>2017</td>\n",
       "      <td>1</td>\n",
       "    </tr>\n",
       "    <tr>\n",
       "      <th>42363</th>\n",
       "      <td>Fifty Shades Collection</td>\n",
       "      <td>Drama Romance</td>\n",
       "      <td>When a wounded Christian Grey tries to entice ...</td>\n",
       "      <td>29.130443</td>\n",
       "      <td>Universal Pictures Perfect World Pictures Beijing</td>\n",
       "      <td>United States of America</td>\n",
       "      <td>English</td>\n",
       "      <td>Fifty Shades Darker</td>\n",
       "      <td>Dakota Johnson Jamie Dornan Eric Johnson Elois...</td>\n",
       "      <td>James Foley</td>\n",
       "      <td>2017</td>\n",
       "      <td>1</td>\n",
       "    </tr>\n",
       "    <tr>\n",
       "      <th>42317</th>\n",
       "      <td>NaN</td>\n",
       "      <td>Action Science Fiction Thriller</td>\n",
       "      <td>In the near future Major is the first of her k...</td>\n",
       "      <td>68.726676</td>\n",
       "      <td>Paramount Pictures DreamWorks SKG Shanghai Fil...</td>\n",
       "      <td>Australia New Zealand United States of America...</td>\n",
       "      <td>日本語 English</td>\n",
       "      <td>Ghost in the Shell</td>\n",
       "      <td>Scarlett Johansson Michael Pitt Pilou Asbæk Ch...</td>\n",
       "      <td>Rupert Sanders</td>\n",
       "      <td>2017</td>\n",
       "      <td>1</td>\n",
       "    </tr>\n",
       "  </tbody>\n",
       "</table>\n",
       "</div>"
      ],
      "text/plain": [
       "         belongs_to_collection                           genres  \\\n",
       "45193                      NaN                           Comedy   \n",
       "42859                      NaN  Horror Science Fiction Thriller   \n",
       "42545                      NaN                            Drama   \n",
       "42363  Fifty Shades Collection                    Drama Romance   \n",
       "42317                      NaN  Action Science Fiction Thriller   \n",
       "\n",
       "                                                overview  popularity  \\\n",
       "45193  Four girlfriends take a trip to New Orleans fo...   37.964872   \n",
       "42859  The sixmember crew of the International Space ...   36.263803   \n",
       "42545  A young woman dealing with anorexia meets an u...    9.128637   \n",
       "42363  When a wounded Christian Grey tries to entice ...   29.130443   \n",
       "42317  In the near future Major is the first of her k...   68.726676   \n",
       "\n",
       "                                    production_companies  \\\n",
       "45193         Universal Pictures Will Packer Productions   \n",
       "42859  Columbia Pictures Skydance Productions Sony Pi...   \n",
       "42545   Mockingbird Pictures AMBI Group Sparkhouse Media   \n",
       "42363  Universal Pictures Perfect World Pictures Beijing   \n",
       "42317  Paramount Pictures DreamWorks SKG Shanghai Fil...   \n",
       "\n",
       "                                    production_countries  \\\n",
       "45193                           United States of America   \n",
       "42859                           United States of America   \n",
       "42545                           United States of America   \n",
       "42363                           United States of America   \n",
       "42317  Australia New Zealand United States of America...   \n",
       "\n",
       "           spoken_languages                title  \\\n",
       "45193               English           Girls Trip   \n",
       "42859  广州话  廣州話 English 日本語                 Life   \n",
       "42545               English          To the Bone   \n",
       "42363               English  Fifty Shades Darker   \n",
       "42317           日本語 English   Ghost in the Shell   \n",
       "\n",
       "                                                    cast             crew  \\\n",
       "45193  Regina Hall Queen Latifah Jada Pinkett Smith T...    Malcolm D Lee   \n",
       "42859  Jake Gyllenhaal Rebecca Ferguson Ryan Reynolds...  Daniel Espinosa   \n",
       "42545  Lily Collins Carrie Preston Lili Taylor Keanu ...      Marti Noxon   \n",
       "42363  Dakota Johnson Jamie Dornan Eric Johnson Elois...      James Foley   \n",
       "42317  Scarlett Johansson Michael Pitt Pilou Asbæk Ch...   Rupert Sanders   \n",
       "\n",
       "       release_year outlier_runtime  \n",
       "45193          2017               1  \n",
       "42859          2017               1  \n",
       "42545          2017               1  \n",
       "42363          2017               1  \n",
       "42317          2017               1  "
      ]
     },
     "execution_count": 51,
     "metadata": {},
     "output_type": "execute_result"
    }
   ],
   "source": [
    "#VISUALIZACIÓN DEL DATAFRAME\n",
    "by_year.head(5)"
   ]
  },
  {
   "attachments": {},
   "cell_type": "markdown",
   "metadata": {},
   "source": [
    "Se elabora la columna tags que es con la que se va a entrenar el modelo, para esto seleccioné:\n",
    "- Belongs to Collection para que reconozca cuando una película forma parte de otras más\n",
    "-Genres para que agrupe por género\n",
    "-Production_Companies para que agrupe por casas productoras\n",
    "y finalmente Overview, ya que, sin esta columna, el entrenado del modelo quedaba deficiente."
   ]
  },
  {
   "cell_type": "code",
   "execution_count": 52,
   "metadata": {},
   "outputs": [],
   "source": [
    "\n",
    "by_year['tags'] = by_year['belongs_to_collection'].fillna('') +' '+ by_year['genres']+' '+ by_year['production_companies'] +' '+ by_year['overview']"
   ]
  },
  {
   "cell_type": "code",
   "execution_count": 53,
   "metadata": {},
   "outputs": [
    {
     "data": {
      "text/html": [
       "<div>\n",
       "<style scoped>\n",
       "    .dataframe tbody tr th:only-of-type {\n",
       "        vertical-align: middle;\n",
       "    }\n",
       "\n",
       "    .dataframe tbody tr th {\n",
       "        vertical-align: top;\n",
       "    }\n",
       "\n",
       "    .dataframe thead th {\n",
       "        text-align: right;\n",
       "    }\n",
       "</style>\n",
       "<table border=\"1\" class=\"dataframe\">\n",
       "  <thead>\n",
       "    <tr style=\"text-align: right;\">\n",
       "      <th></th>\n",
       "      <th>belongs_to_collection</th>\n",
       "      <th>genres</th>\n",
       "      <th>overview</th>\n",
       "      <th>popularity</th>\n",
       "      <th>production_companies</th>\n",
       "      <th>production_countries</th>\n",
       "      <th>spoken_languages</th>\n",
       "      <th>title</th>\n",
       "      <th>cast</th>\n",
       "      <th>crew</th>\n",
       "      <th>release_year</th>\n",
       "      <th>outlier_runtime</th>\n",
       "      <th>tags</th>\n",
       "    </tr>\n",
       "  </thead>\n",
       "  <tbody>\n",
       "    <tr>\n",
       "      <th>3415</th>\n",
       "      <td>Predator Collection</td>\n",
       "      <td>Science Fiction Action Adventure Thriller</td>\n",
       "      <td>Dutch and his group of commandos are hired by ...</td>\n",
       "      <td>18.495694</td>\n",
       "      <td>Twentieth Century Fox Film Corporation Lawrenc...</td>\n",
       "      <td>United States of America</td>\n",
       "      <td>English Español</td>\n",
       "      <td>Predator</td>\n",
       "      <td>Arnold Schwarzenegger Carl Weathers Elpidia Ca...</td>\n",
       "      <td>John McTiernan</td>\n",
       "      <td>1987</td>\n",
       "      <td>1</td>\n",
       "      <td>Predator Collection Science Fiction Action Adv...</td>\n",
       "    </tr>\n",
       "    <tr>\n",
       "      <th>7856</th>\n",
       "      <td>NaN</td>\n",
       "      <td>Comedy</td>\n",
       "      <td>When megalomaniacal White Goodman the owner of...</td>\n",
       "      <td>11.967379</td>\n",
       "      <td>Twentieth Century Fox Film Corporation Red Hou...</td>\n",
       "      <td>Germany United States of America</td>\n",
       "      <td>English Deutsch</td>\n",
       "      <td>DodgeBall: A True Underdog Story</td>\n",
       "      <td>Vince Vaughn Christine Taylor Ben Stiller Rip ...</td>\n",
       "      <td>Rawson Marshall Thurber</td>\n",
       "      <td>2004</td>\n",
       "      <td>1</td>\n",
       "      <td>Comedy Twentieth Century Fox Film Corporation...</td>\n",
       "    </tr>\n",
       "    <tr>\n",
       "      <th>6262</th>\n",
       "      <td>The Fast and the Furious Collection</td>\n",
       "      <td>Action Crime Thriller</td>\n",
       "      <td>Its a major doublecross when former police off...</td>\n",
       "      <td>2.324620</td>\n",
       "      <td>Mikona Productions GmbH  Co KG Universal Pictu...</td>\n",
       "      <td>United States of America</td>\n",
       "      <td>English Español</td>\n",
       "      <td>2 Fast 2 Furious</td>\n",
       "      <td>Paul Walker Tyrese Gibson Eva Mendes Cole Haus...</td>\n",
       "      <td>John Singleton</td>\n",
       "      <td>2003</td>\n",
       "      <td>1</td>\n",
       "      <td>The Fast and the Furious Collection Action Cri...</td>\n",
       "    </tr>\n",
       "    <tr>\n",
       "      <th>12083</th>\n",
       "      <td>NaN</td>\n",
       "      <td>Action Thriller Comedy Crime</td>\n",
       "      <td>A man named Mr Smith delivers a womans baby du...</td>\n",
       "      <td>7.259086</td>\n",
       "      <td>New Line Cinema Angry Films</td>\n",
       "      <td>United States of America</td>\n",
       "      <td>English Italiano</td>\n",
       "      <td>Shoot 'Em Up</td>\n",
       "      <td>Clive Owen Monica Bellucci Paul Giamatti Steph...</td>\n",
       "      <td>Michael Davis</td>\n",
       "      <td>2007</td>\n",
       "      <td>1</td>\n",
       "      <td>Action Thriller Comedy Crime New Line Cinema ...</td>\n",
       "    </tr>\n",
       "    <tr>\n",
       "      <th>19757</th>\n",
       "      <td>NaN</td>\n",
       "      <td>Comedy</td>\n",
       "      <td>A high school biology teacher moonlights as a ...</td>\n",
       "      <td>13.409588</td>\n",
       "      <td>Columbia Pictures Happy Madison Productions Br...</td>\n",
       "      <td>United States of America</td>\n",
       "      <td>English</td>\n",
       "      <td>Here Comes the Boom</td>\n",
       "      <td>Salma Hayek Kevin James Henry Winkler Joe Roga...</td>\n",
       "      <td>Frank Coraci</td>\n",
       "      <td>2012</td>\n",
       "      <td>1</td>\n",
       "      <td>Comedy Columbia Pictures Happy Madison Produc...</td>\n",
       "    </tr>\n",
       "  </tbody>\n",
       "</table>\n",
       "</div>"
      ],
      "text/plain": [
       "                     belongs_to_collection  \\\n",
       "3415                   Predator Collection   \n",
       "7856                                   NaN   \n",
       "6262   The Fast and the Furious Collection   \n",
       "12083                                  NaN   \n",
       "19757                                  NaN   \n",
       "\n",
       "                                          genres  \\\n",
       "3415   Science Fiction Action Adventure Thriller   \n",
       "7856                                      Comedy   \n",
       "6262                       Action Crime Thriller   \n",
       "12083               Action Thriller Comedy Crime   \n",
       "19757                                     Comedy   \n",
       "\n",
       "                                                overview  popularity  \\\n",
       "3415   Dutch and his group of commandos are hired by ...   18.495694   \n",
       "7856   When megalomaniacal White Goodman the owner of...   11.967379   \n",
       "6262   Its a major doublecross when former police off...    2.324620   \n",
       "12083  A man named Mr Smith delivers a womans baby du...    7.259086   \n",
       "19757  A high school biology teacher moonlights as a ...   13.409588   \n",
       "\n",
       "                                    production_companies  \\\n",
       "3415   Twentieth Century Fox Film Corporation Lawrenc...   \n",
       "7856   Twentieth Century Fox Film Corporation Red Hou...   \n",
       "6262   Mikona Productions GmbH  Co KG Universal Pictu...   \n",
       "12083                        New Line Cinema Angry Films   \n",
       "19757  Columbia Pictures Happy Madison Productions Br...   \n",
       "\n",
       "                   production_countries  spoken_languages  \\\n",
       "3415           United States of America   English Español   \n",
       "7856   Germany United States of America   English Deutsch   \n",
       "6262           United States of America   English Español   \n",
       "12083          United States of America  English Italiano   \n",
       "19757          United States of America           English   \n",
       "\n",
       "                                  title  \\\n",
       "3415                           Predator   \n",
       "7856   DodgeBall: A True Underdog Story   \n",
       "6262                   2 Fast 2 Furious   \n",
       "12083                      Shoot 'Em Up   \n",
       "19757               Here Comes the Boom   \n",
       "\n",
       "                                                    cast  \\\n",
       "3415   Arnold Schwarzenegger Carl Weathers Elpidia Ca...   \n",
       "7856   Vince Vaughn Christine Taylor Ben Stiller Rip ...   \n",
       "6262   Paul Walker Tyrese Gibson Eva Mendes Cole Haus...   \n",
       "12083  Clive Owen Monica Bellucci Paul Giamatti Steph...   \n",
       "19757  Salma Hayek Kevin James Henry Winkler Joe Roga...   \n",
       "\n",
       "                          crew  release_year outlier_runtime  \\\n",
       "3415            John McTiernan          1987               1   \n",
       "7856   Rawson Marshall Thurber          2004               1   \n",
       "6262            John Singleton          2003               1   \n",
       "12083            Michael Davis          2007               1   \n",
       "19757             Frank Coraci          2012               1   \n",
       "\n",
       "                                                    tags  \n",
       "3415   Predator Collection Science Fiction Action Adv...  \n",
       "7856    Comedy Twentieth Century Fox Film Corporation...  \n",
       "6262   The Fast and the Furious Collection Action Cri...  \n",
       "12083   Action Thriller Comedy Crime New Line Cinema ...  \n",
       "19757   Comedy Columbia Pictures Happy Madison Produc...  "
      ]
     },
     "execution_count": 53,
     "metadata": {},
     "output_type": "execute_result"
    }
   ],
   "source": [
    "by_year.sample(5)"
   ]
  },
  {
   "cell_type": "code",
   "execution_count": 54,
   "metadata": {},
   "outputs": [
    {
     "data": {
      "text/html": [
       "<div>\n",
       "<style scoped>\n",
       "    .dataframe tbody tr th:only-of-type {\n",
       "        vertical-align: middle;\n",
       "    }\n",
       "\n",
       "    .dataframe tbody tr th {\n",
       "        vertical-align: top;\n",
       "    }\n",
       "\n",
       "    .dataframe thead th {\n",
       "        text-align: right;\n",
       "    }\n",
       "</style>\n",
       "<table border=\"1\" class=\"dataframe\">\n",
       "  <thead>\n",
       "    <tr style=\"text-align: right;\">\n",
       "      <th></th>\n",
       "      <th>title</th>\n",
       "      <th>tags</th>\n",
       "    </tr>\n",
       "  </thead>\n",
       "  <tbody>\n",
       "    <tr>\n",
       "      <th>0</th>\n",
       "      <td>Girls Trip</td>\n",
       "      <td>Comedy Universal Pictures Will Packer Product...</td>\n",
       "    </tr>\n",
       "    <tr>\n",
       "      <th>1</th>\n",
       "      <td>Life</td>\n",
       "      <td>Horror Science Fiction Thriller Columbia Pict...</td>\n",
       "    </tr>\n",
       "    <tr>\n",
       "      <th>2</th>\n",
       "      <td>To the Bone</td>\n",
       "      <td>Drama Mockingbird Pictures AMBI Group Sparkho...</td>\n",
       "    </tr>\n",
       "    <tr>\n",
       "      <th>3</th>\n",
       "      <td>Fifty Shades Darker</td>\n",
       "      <td>Fifty Shades Collection Drama Romance Universa...</td>\n",
       "    </tr>\n",
       "    <tr>\n",
       "      <th>4</th>\n",
       "      <td>Ghost in the Shell</td>\n",
       "      <td>Action Science Fiction Thriller Paramount Pic...</td>\n",
       "    </tr>\n",
       "    <tr>\n",
       "      <th>...</th>\n",
       "      <td>...</td>\n",
       "      <td>...</td>\n",
       "    </tr>\n",
       "    <tr>\n",
       "      <th>2989</th>\n",
       "      <td>Metropolis</td>\n",
       "      <td>Drama Science Fiction Paramount Pictures Univ...</td>\n",
       "    </tr>\n",
       "    <tr>\n",
       "      <th>2990</th>\n",
       "      <td>The Gold Rush</td>\n",
       "      <td>Adventure Comedy Drama Charles Chaplin Produc...</td>\n",
       "    </tr>\n",
       "    <tr>\n",
       "      <th>2991</th>\n",
       "      <td>Nosferatu</td>\n",
       "      <td>Fantasy Horror Jofa Atelier PranaFilm GmbH Va...</td>\n",
       "    </tr>\n",
       "    <tr>\n",
       "      <th>2992</th>\n",
       "      <td>The Kid</td>\n",
       "      <td>Comedy Drama Charles Chaplin Productions Firs...</td>\n",
       "    </tr>\n",
       "    <tr>\n",
       "      <th>2993</th>\n",
       "      <td>A Trip to the Moon</td>\n",
       "      <td>Adventure Fantasy Science Fiction StarFilm A ...</td>\n",
       "    </tr>\n",
       "  </tbody>\n",
       "</table>\n",
       "<p>2994 rows × 2 columns</p>\n",
       "</div>"
      ],
      "text/plain": [
       "                    title                                               tags\n",
       "0              Girls Trip   Comedy Universal Pictures Will Packer Product...\n",
       "1                    Life   Horror Science Fiction Thriller Columbia Pict...\n",
       "2             To the Bone   Drama Mockingbird Pictures AMBI Group Sparkho...\n",
       "3     Fifty Shades Darker  Fifty Shades Collection Drama Romance Universa...\n",
       "4      Ghost in the Shell   Action Science Fiction Thriller Paramount Pic...\n",
       "...                   ...                                                ...\n",
       "2989           Metropolis   Drama Science Fiction Paramount Pictures Univ...\n",
       "2990        The Gold Rush   Adventure Comedy Drama Charles Chaplin Produc...\n",
       "2991            Nosferatu   Fantasy Horror Jofa Atelier PranaFilm GmbH Va...\n",
       "2992              The Kid   Comedy Drama Charles Chaplin Productions Firs...\n",
       "2993   A Trip to the Moon   Adventure Fantasy Science Fiction StarFilm A ...\n",
       "\n",
       "[2994 rows x 2 columns]"
      ]
     },
     "execution_count": 54,
     "metadata": {},
     "output_type": "execute_result"
    }
   ],
   "source": [
    "#ELIMINAMOS LAS COLUMNAS QUE NO VAMOS A OCUPAR\n",
    "data_lista = by_year[['title', 'tags']].reset_index(drop=True)\n",
    "data_lista"
   ]
  },
  {
   "cell_type": "code",
   "execution_count": 55,
   "metadata": {},
   "outputs": [],
   "source": [
    "#SE PREPARA FUNCIÓN PARA LEMATIZAR Y DIFERENCIE ENTRE TIPO DE PALABRAS\n",
    "from nltk.corpus import wordnet\n",
    "import nltk\n",
    "\n",
    "def get_wordnet_pos(word):\n",
    "    \"\"\"Map POS tag to first character lemmatize() accepts\"\"\"\n",
    "    tag = nltk.pos_tag([word])[0][1][0].upper()\n",
    "    tag_dict = {\"J\": wordnet.ADJ,\n",
    "                \"N\": wordnet.NOUN,\n",
    "                \"V\": wordnet.VERB,\n",
    "                \"R\": wordnet.ADV}\n",
    "\n",
    "    return tag_dict.get(tag, wordnet.NOUN)"
   ]
  },
  {
   "cell_type": "code",
   "execution_count": 56,
   "metadata": {},
   "outputs": [],
   "source": [
    "# Importamos esta libreria que nos permite reemplAzar caracteres\n",
    "import re\n",
    "\n",
    "# Importamos el lemmatizar de NLTK, y creamos el objeto\n",
    "from nltk.stem import WordNetLemmatizer\n",
    "wordnet_lemmatizer = WordNetLemmatizer()\n",
    "\n",
    "# Traemos nuevamente las stopwords\n",
    "stopwords = nltk.corpus.stopwords.words('english')"
   ]
  },
  {
   "cell_type": "code",
   "execution_count": 57,
   "metadata": {},
   "outputs": [],
   "source": [
    "# ATENCIÓN - Este proceso demora bastante!\n",
    "#Pero, limpiar los datos de palabras innecesarias es muy importante para entrenar un modelo \n",
    "titular_list=[]\n",
    "for titular in data_lista.tags:\n",
    "    # Vamos a reemplzar los caracteres que no sean leras por espacios\n",
    "    titular=re.sub(\"[^a-zA-Z]\",\" \",str(titular))\n",
    "    # Pasamos todo a minúsculas\n",
    "    titular=titular.lower()\n",
    "    # Tokenizamos para separar las palabras\n",
    "    titular=nltk.word_tokenize(titular)\n",
    "    \n",
    "    # Aplicamos el Lemmatizer (Esto puede tardar un ratito)\n",
    "    frase_lemma = [wordnet_lemmatizer.lemmatize(w, get_wordnet_pos(w)) for w in titular]\n",
    "    \n",
    "    \n",
    "    # Eliminamos las palabras d emenos de 3 letras\n",
    "    titular = [palabra for palabra in titular if len(palabra)>3]\n",
    "    # Sacamos las Stopwords\n",
    "    titular = [palabra for palabra in titular if not palabra in stopwords]\n",
    "    \n",
    "    # Por ultimo volvemos a unir el titular\n",
    "    titular=\" \".join(titular)\n",
    "    #dataset[\"titular_normalizado\"] = titular_list\n",
    "    titular_list.append(titular)"
   ]
  },
  {
   "cell_type": "code",
   "execution_count": 58,
   "metadata": {},
   "outputs": [
    {
     "data": {
      "text/html": [
       "<div>\n",
       "<style scoped>\n",
       "    .dataframe tbody tr th:only-of-type {\n",
       "        vertical-align: middle;\n",
       "    }\n",
       "\n",
       "    .dataframe tbody tr th {\n",
       "        vertical-align: top;\n",
       "    }\n",
       "\n",
       "    .dataframe thead th {\n",
       "        text-align: right;\n",
       "    }\n",
       "</style>\n",
       "<table border=\"1\" class=\"dataframe\">\n",
       "  <thead>\n",
       "    <tr style=\"text-align: right;\">\n",
       "      <th></th>\n",
       "      <th>title</th>\n",
       "      <th>tags</th>\n",
       "      <th>tag_stem</th>\n",
       "    </tr>\n",
       "  </thead>\n",
       "  <tbody>\n",
       "    <tr>\n",
       "      <th>0</th>\n",
       "      <td>Girls Trip</td>\n",
       "      <td>Comedy Universal Pictures Will Packer Product...</td>\n",
       "      <td>comedy universal pictures packer productions f...</td>\n",
       "    </tr>\n",
       "    <tr>\n",
       "      <th>1</th>\n",
       "      <td>Life</td>\n",
       "      <td>Horror Science Fiction Thriller Columbia Pict...</td>\n",
       "      <td>horror science fiction thriller columbia pictu...</td>\n",
       "    </tr>\n",
       "    <tr>\n",
       "      <th>2</th>\n",
       "      <td>To the Bone</td>\n",
       "      <td>Drama Mockingbird Pictures AMBI Group Sparkho...</td>\n",
       "      <td>drama mockingbird pictures ambi group sparkhou...</td>\n",
       "    </tr>\n",
       "    <tr>\n",
       "      <th>3</th>\n",
       "      <td>Fifty Shades Darker</td>\n",
       "      <td>Fifty Shades Collection Drama Romance Universa...</td>\n",
       "      <td>fifty shades collection drama romance universa...</td>\n",
       "    </tr>\n",
       "    <tr>\n",
       "      <th>4</th>\n",
       "      <td>Ghost in the Shell</td>\n",
       "      <td>Action Science Fiction Thriller Paramount Pic...</td>\n",
       "      <td>action science fiction thriller paramount pict...</td>\n",
       "    </tr>\n",
       "  </tbody>\n",
       "</table>\n",
       "</div>"
      ],
      "text/plain": [
       "                 title                                               tags  \\\n",
       "0           Girls Trip   Comedy Universal Pictures Will Packer Product...   \n",
       "1                 Life   Horror Science Fiction Thriller Columbia Pict...   \n",
       "2          To the Bone   Drama Mockingbird Pictures AMBI Group Sparkho...   \n",
       "3  Fifty Shades Darker  Fifty Shades Collection Drama Romance Universa...   \n",
       "4   Ghost in the Shell   Action Science Fiction Thriller Paramount Pic...   \n",
       "\n",
       "                                            tag_stem  \n",
       "0  comedy universal pictures packer productions f...  \n",
       "1  horror science fiction thriller columbia pictu...  \n",
       "2  drama mockingbird pictures ambi group sparkhou...  \n",
       "3  fifty shades collection drama romance universa...  \n",
       "4  action science fiction thriller paramount pict...  "
      ]
     },
     "execution_count": 58,
     "metadata": {},
     "output_type": "execute_result"
    }
   ],
   "source": [
    "#Observen el cambio\n",
    "data_lista[\"tag_stem\"] = titular_list\n",
    "data_lista.head(5)"
   ]
  },
  {
   "cell_type": "code",
   "execution_count": 59,
   "metadata": {},
   "outputs": [],
   "source": [
    "#Este es el dataset que usaremos para entrenar el modelo\n",
    "dataset_stem=pd.concat([data_lista.title,data_lista.tag_stem],axis=1)\n",
    "dataset_stem.dropna(axis=0,inplace=True)  # Por si quedaron titulares vacios"
   ]
  },
  {
   "cell_type": "code",
   "execution_count": null,
   "metadata": {},
   "outputs": [],
   "source": [
    "#SE PREPARAN LOS DATOS PARA REALIZAR EL MODELO DE RECOMENDACIÓN\n",
    "#Se decidió así, ya que Render donde se hizo el deploy estaba dando muchos problemas. Pero\n",
    "#no es necesario descargar si se va a ocupar para repositorio local\n",
    "#dataset_stem.to_csv('df_EDA.csv', index=False, encoding='utf-8')"
   ]
  },
  {
   "attachments": {},
   "cell_type": "markdown",
   "metadata": {},
   "source": [
    "##SISTEMA DE RECOMENDACIÓN##"
   ]
  },
  {
   "cell_type": "code",
   "execution_count": 62,
   "metadata": {},
   "outputs": [],
   "source": [
    "#PRIMERO SE VECTORIZAN LAS PALABRAS Y Y SE ENTRENA EL MODELO, ADEMÁS SE CAMBIA EL TIPO DE DATO\n",
    "#PARA TRATAR DE REDUCIR EL PESO DEL MODELO.\n",
    "from sklearn.feature_extraction.text import CountVectorizer, TfidfVectorizer\n",
    "tfidf =TfidfVectorizer()\n",
    "dataset_stem['tag_stem'] = dataset_stem['tag_stem'].fillna('')\n",
    "tfidf_matrix = tfidf.fit_transform(dataset_stem['tag_stem'].values) \n",
    "tfidf_matrix = tfidf_matrix.astype(np.float32)"
   ]
  },
  {
   "cell_type": "code",
   "execution_count": 63,
   "metadata": {},
   "outputs": [
    {
     "data": {
      "text/plain": [
       "(2994, 18429)"
      ]
     },
     "execution_count": 63,
     "metadata": {},
     "output_type": "execute_result"
    }
   ],
   "source": [
    "#tamaño de la matrz\n",
    "tfidf_matrix.shape"
   ]
  },
  {
   "cell_type": "code",
   "execution_count": 64,
   "metadata": {},
   "outputs": [],
   "source": [
    "#Es el kernel más sencillo de todos, calcula el producto escalar de los dos vectores y suma\n",
    "#una constante\n",
    "from sklearn.metrics.pairwise import linear_kernel\n",
    "cosine_sim = linear_kernel(tfidf_matrix, tfidf_matrix)"
   ]
  },
  {
   "cell_type": "code",
   "execution_count": 65,
   "metadata": {},
   "outputs": [],
   "source": [
    "#SE PROBÓ ANTES LA FUNCIÓN DE RECOMENDACIÓN PARA PASARLA AL ARCHIVO MAIN.PY\n",
    "def recomendacion(titulo:str):\n",
    "  idx = dataset_stem[dataset_stem['title']==titulo].index[0]\n",
    "  sim_scores = list(enumerate(cosine_sim[idx]))\n",
    "  sim_scores = sorted(sim_scores, key=lambda x:x[1], reverse=True)\n",
    "  sim_scores = sim_scores[1:6]\n",
    "  movie_indices = [i[0] for i in sim_scores]\n",
    "  pelis =  dataset_stem['title'].iloc[movie_indices]\n",
    "  return pelis"
   ]
  },
  {
   "cell_type": "code",
   "execution_count": 66,
   "metadata": {},
   "outputs": [
    {
     "data": {
      "text/plain": [
       "2253              Toy Story 2\n",
       "1071              Toy Story 3\n",
       "2956    Rebel Without a Cause\n",
       "2134           Monsters, Inc.\n",
       "2535        Indecent Proposal\n",
       "Name: title, dtype: object"
      ]
     },
     "execution_count": 66,
     "metadata": {},
     "output_type": "execute_result"
    }
   ],
   "source": [
    "#EL RESULTADO ES BUENO, RETORNA PELÍCULAS DE LA MISMA COLECCIÓN Y UNA MÁS INFANTIL\n",
    "recomendacion('Toy Story')"
   ]
  },
  {
   "cell_type": "code",
   "execution_count": 67,
   "metadata": {},
   "outputs": [
    {
     "data": {
      "text/plain": [
       "['modelo_kernel.pkl']"
      ]
     },
     "execution_count": 67,
     "metadata": {},
     "output_type": "execute_result"
    }
   ],
   "source": [
    "#SE GUARDA EL MODELO DE ENTRENAMIENTO PARA UTILIZARLO EN LA FASTAPI\n",
    "#No es necesario si se va a trabajar de manera local con este repositorio, pero si se desea\n",
    "#llevar su modelo entrenado a otro lado, esta es la manera de hacerlo\n",
    "\n",
    "#import joblib\n",
    "#joblib.dump(cosine_sim, 'modelo_kernel.pkl') # Guardo el modelo."
   ]
  }
 ],
 "metadata": {
  "kernelspec": {
   "display_name": "Python 3",
   "language": "python",
   "name": "python3"
  },
  "language_info": {
   "codemirror_mode": {
    "name": "ipython",
    "version": 3
   },
   "file_extension": ".py",
   "mimetype": "text/x-python",
   "name": "python",
   "nbconvert_exporter": "python",
   "pygments_lexer": "ipython3",
   "version": "3.11.1"
  },
  "orig_nbformat": 4
 },
 "nbformat": 4,
 "nbformat_minor": 2
}
